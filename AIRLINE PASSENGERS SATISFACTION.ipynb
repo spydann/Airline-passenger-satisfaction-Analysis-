{
 "cells": [
  {
   "cell_type": "code",
   "execution_count": 1,
   "id": "e2dbf283",
   "metadata": {},
   "outputs": [],
   "source": [
    "import pandas as pd \n",
    "import numpy as np \n",
    "import seaborn as sns \n",
    "import matplotlib.pyplot as plt \n",
    "\n",
    "\n",
    "\n",
    "\n",
    "sns.set()"
   ]
  },
  {
   "cell_type": "code",
   "execution_count": 2,
   "id": "eeddd8bc",
   "metadata": {},
   "outputs": [
    {
     "data": {
      "text/html": [
       "<div>\n",
       "<style scoped>\n",
       "    .dataframe tbody tr th:only-of-type {\n",
       "        vertical-align: middle;\n",
       "    }\n",
       "\n",
       "    .dataframe tbody tr th {\n",
       "        vertical-align: top;\n",
       "    }\n",
       "\n",
       "    .dataframe thead th {\n",
       "        text-align: right;\n",
       "    }\n",
       "</style>\n",
       "<table border=\"1\" class=\"dataframe\">\n",
       "  <thead>\n",
       "    <tr style=\"text-align: right;\">\n",
       "      <th></th>\n",
       "      <th>Gender</th>\n",
       "      <th>Age</th>\n",
       "      <th>Customer Type</th>\n",
       "      <th>Type of Travel</th>\n",
       "      <th>Class</th>\n",
       "      <th>Flight Distance</th>\n",
       "      <th>Departure Delay</th>\n",
       "      <th>Arrival Delay</th>\n",
       "      <th>Departure and Arrival Time Convenience</th>\n",
       "      <th>Ease of Online Booking</th>\n",
       "      <th>...</th>\n",
       "      <th>On-board Service</th>\n",
       "      <th>Seat Comfort</th>\n",
       "      <th>Leg Room Service</th>\n",
       "      <th>Cleanliness</th>\n",
       "      <th>Food and Drink</th>\n",
       "      <th>In-flight Service</th>\n",
       "      <th>In-flight Wifi Service</th>\n",
       "      <th>In-flight Entertainment</th>\n",
       "      <th>Baggage Handling</th>\n",
       "      <th>Satisfaction</th>\n",
       "    </tr>\n",
       "    <tr>\n",
       "      <th>ID</th>\n",
       "      <th></th>\n",
       "      <th></th>\n",
       "      <th></th>\n",
       "      <th></th>\n",
       "      <th></th>\n",
       "      <th></th>\n",
       "      <th></th>\n",
       "      <th></th>\n",
       "      <th></th>\n",
       "      <th></th>\n",
       "      <th></th>\n",
       "      <th></th>\n",
       "      <th></th>\n",
       "      <th></th>\n",
       "      <th></th>\n",
       "      <th></th>\n",
       "      <th></th>\n",
       "      <th></th>\n",
       "      <th></th>\n",
       "      <th></th>\n",
       "      <th></th>\n",
       "    </tr>\n",
       "  </thead>\n",
       "  <tbody>\n",
       "    <tr>\n",
       "      <th>1</th>\n",
       "      <td>Male</td>\n",
       "      <td>48</td>\n",
       "      <td>First-time</td>\n",
       "      <td>Business</td>\n",
       "      <td>Business</td>\n",
       "      <td>821</td>\n",
       "      <td>2</td>\n",
       "      <td>5.0</td>\n",
       "      <td>3</td>\n",
       "      <td>3</td>\n",
       "      <td>...</td>\n",
       "      <td>3</td>\n",
       "      <td>5</td>\n",
       "      <td>2</td>\n",
       "      <td>5</td>\n",
       "      <td>5</td>\n",
       "      <td>5</td>\n",
       "      <td>3</td>\n",
       "      <td>5</td>\n",
       "      <td>5</td>\n",
       "      <td>Neutral or Dissatisfied</td>\n",
       "    </tr>\n",
       "    <tr>\n",
       "      <th>2</th>\n",
       "      <td>Female</td>\n",
       "      <td>35</td>\n",
       "      <td>Returning</td>\n",
       "      <td>Business</td>\n",
       "      <td>Business</td>\n",
       "      <td>821</td>\n",
       "      <td>26</td>\n",
       "      <td>39.0</td>\n",
       "      <td>2</td>\n",
       "      <td>2</td>\n",
       "      <td>...</td>\n",
       "      <td>5</td>\n",
       "      <td>4</td>\n",
       "      <td>5</td>\n",
       "      <td>5</td>\n",
       "      <td>3</td>\n",
       "      <td>5</td>\n",
       "      <td>2</td>\n",
       "      <td>5</td>\n",
       "      <td>5</td>\n",
       "      <td>Satisfied</td>\n",
       "    </tr>\n",
       "    <tr>\n",
       "      <th>3</th>\n",
       "      <td>Male</td>\n",
       "      <td>41</td>\n",
       "      <td>Returning</td>\n",
       "      <td>Business</td>\n",
       "      <td>Business</td>\n",
       "      <td>853</td>\n",
       "      <td>0</td>\n",
       "      <td>0.0</td>\n",
       "      <td>4</td>\n",
       "      <td>4</td>\n",
       "      <td>...</td>\n",
       "      <td>3</td>\n",
       "      <td>5</td>\n",
       "      <td>3</td>\n",
       "      <td>5</td>\n",
       "      <td>5</td>\n",
       "      <td>3</td>\n",
       "      <td>4</td>\n",
       "      <td>3</td>\n",
       "      <td>3</td>\n",
       "      <td>Satisfied</td>\n",
       "    </tr>\n",
       "    <tr>\n",
       "      <th>4</th>\n",
       "      <td>Male</td>\n",
       "      <td>50</td>\n",
       "      <td>Returning</td>\n",
       "      <td>Business</td>\n",
       "      <td>Business</td>\n",
       "      <td>1905</td>\n",
       "      <td>0</td>\n",
       "      <td>0.0</td>\n",
       "      <td>2</td>\n",
       "      <td>2</td>\n",
       "      <td>...</td>\n",
       "      <td>5</td>\n",
       "      <td>5</td>\n",
       "      <td>5</td>\n",
       "      <td>4</td>\n",
       "      <td>4</td>\n",
       "      <td>5</td>\n",
       "      <td>2</td>\n",
       "      <td>5</td>\n",
       "      <td>5</td>\n",
       "      <td>Satisfied</td>\n",
       "    </tr>\n",
       "    <tr>\n",
       "      <th>5</th>\n",
       "      <td>Female</td>\n",
       "      <td>49</td>\n",
       "      <td>Returning</td>\n",
       "      <td>Business</td>\n",
       "      <td>Business</td>\n",
       "      <td>3470</td>\n",
       "      <td>0</td>\n",
       "      <td>1.0</td>\n",
       "      <td>3</td>\n",
       "      <td>3</td>\n",
       "      <td>...</td>\n",
       "      <td>3</td>\n",
       "      <td>4</td>\n",
       "      <td>4</td>\n",
       "      <td>5</td>\n",
       "      <td>4</td>\n",
       "      <td>3</td>\n",
       "      <td>3</td>\n",
       "      <td>3</td>\n",
       "      <td>3</td>\n",
       "      <td>Satisfied</td>\n",
       "    </tr>\n",
       "  </tbody>\n",
       "</table>\n",
       "<p>5 rows × 23 columns</p>\n",
       "</div>"
      ],
      "text/plain": [
       "    Gender  Age Customer Type Type of Travel     Class  Flight Distance  \\\n",
       "ID                                                                        \n",
       "1     Male   48    First-time       Business  Business              821   \n",
       "2   Female   35     Returning       Business  Business              821   \n",
       "3     Male   41     Returning       Business  Business              853   \n",
       "4     Male   50     Returning       Business  Business             1905   \n",
       "5   Female   49     Returning       Business  Business             3470   \n",
       "\n",
       "    Departure Delay  Arrival Delay  Departure and Arrival Time Convenience  \\\n",
       "ID                                                                           \n",
       "1                 2            5.0                                       3   \n",
       "2                26           39.0                                       2   \n",
       "3                 0            0.0                                       4   \n",
       "4                 0            0.0                                       2   \n",
       "5                 0            1.0                                       3   \n",
       "\n",
       "    Ease of Online Booking  ...  On-board Service  Seat Comfort  \\\n",
       "ID                          ...                                   \n",
       "1                        3  ...                 3             5   \n",
       "2                        2  ...                 5             4   \n",
       "3                        4  ...                 3             5   \n",
       "4                        2  ...                 5             5   \n",
       "5                        3  ...                 3             4   \n",
       "\n",
       "    Leg Room Service  Cleanliness  Food and Drink  In-flight Service  \\\n",
       "ID                                                                     \n",
       "1                  2            5               5                  5   \n",
       "2                  5            5               3                  5   \n",
       "3                  3            5               5                  3   \n",
       "4                  5            4               4                  5   \n",
       "5                  4            5               4                  3   \n",
       "\n",
       "    In-flight Wifi Service  In-flight Entertainment  Baggage Handling  \\\n",
       "ID                                                                      \n",
       "1                        3                        5                 5   \n",
       "2                        2                        5                 5   \n",
       "3                        4                        3                 3   \n",
       "4                        2                        5                 5   \n",
       "5                        3                        3                 3   \n",
       "\n",
       "               Satisfaction  \n",
       "ID                           \n",
       "1   Neutral or Dissatisfied  \n",
       "2                 Satisfied  \n",
       "3                 Satisfied  \n",
       "4                 Satisfied  \n",
       "5                 Satisfied  \n",
       "\n",
       "[5 rows x 23 columns]"
      ]
     },
     "execution_count": 2,
     "metadata": {},
     "output_type": "execute_result"
    }
   ],
   "source": [
    "df = pd.read_csv('C:/Users/User/Desktop/airline_passenger_satisfaction.csv', index_col ='ID')\n",
    "df.head()"
   ]
  },
  {
   "cell_type": "code",
   "execution_count": null,
   "id": "0eea2ec4",
   "metadata": {},
   "outputs": [],
   "source": [
    "df.info()"
   ]
  },
  {
   "cell_type": "code",
   "execution_count": null,
   "id": "54ec0670",
   "metadata": {},
   "outputs": [],
   "source": [
    "df['Arrival Delay'].fillna(0,inplace=True)\n",
    "df['Arrival Delay'].isnull().sum()"
   ]
  },
  {
   "cell_type": "code",
   "execution_count": null,
   "id": "d7e0c228",
   "metadata": {},
   "outputs": [],
   "source": [
    "df['Class'].unique()"
   ]
  },
  {
   "cell_type": "code",
   "execution_count": null,
   "id": "896b3db8",
   "metadata": {},
   "outputs": [],
   "source": [
    "df['Type of Travel'].unique()"
   ]
  },
  {
   "cell_type": "code",
   "execution_count": null,
   "id": "06d2d24d",
   "metadata": {},
   "outputs": [],
   "source": [
    "df['Customer Type'].unique()"
   ]
  },
  {
   "cell_type": "code",
   "execution_count": null,
   "id": "4c8a44f4",
   "metadata": {},
   "outputs": [],
   "source": [
    "df['Satisfaction'].unique()"
   ]
  },
  {
   "cell_type": "code",
   "execution_count": null,
   "id": "55656895",
   "metadata": {},
   "outputs": [],
   "source": [
    "df['Gender'].value_counts()"
   ]
  },
  {
   "cell_type": "code",
   "execution_count": null,
   "id": "e1465146",
   "metadata": {},
   "outputs": [],
   "source": [
    "df['Satisfaction'].value_counts()"
   ]
  },
  {
   "cell_type": "code",
   "execution_count": 15,
   "id": "db3afa5e",
   "metadata": {},
   "outputs": [
    {
     "data": {
      "text/plain": [
       "array([65899, 63981], dtype=int64)"
      ]
     },
     "execution_count": 15,
     "metadata": {},
     "output_type": "execute_result"
    }
   ],
   "source": [
    "sex_p =  df.Gender.value_counts().astype('int64')\n",
    "sex_p.values"
   ]
  },
  {
   "cell_type": "code",
   "execution_count": 52,
   "id": "0d8fc132",
   "metadata": {},
   "outputs": [
    {
     "data": {
      "image/png": "[encoded data removed]",
      "text/plain": [
       "<Figure size 432x288 with 1 Axes>"
      ]
     },
     "metadata": {},
     "output_type": "display_data"
    }
   ],
   "source": [
    "plt.pie(sex_p.values, labels = sex_p.index, autopct = '%1.2f%%')\n",
    "plt.show()"
   ]
  },
  {
   "cell_type": "code",
   "execution_count": 17,
   "id": "1126eb18",
   "metadata": {},
   "outputs": [
    {
     "data": {
      "text/html": [
       "<div>\n",
       "<style scoped>\n",
       "    .dataframe tbody tr th:only-of-type {\n",
       "        vertical-align: middle;\n",
       "    }\n",
       "\n",
       "    .dataframe tbody tr th {\n",
       "        vertical-align: top;\n",
       "    }\n",
       "\n",
       "    .dataframe thead th {\n",
       "        text-align: right;\n",
       "    }\n",
       "</style>\n",
       "<table border=\"1\" class=\"dataframe\">\n",
       "  <thead>\n",
       "    <tr style=\"text-align: right;\">\n",
       "      <th></th>\n",
       "      <th>Counts</th>\n",
       "    </tr>\n",
       "  </thead>\n",
       "  <tbody>\n",
       "    <tr>\n",
       "      <th>Male</th>\n",
       "      <td>63981</td>\n",
       "    </tr>\n",
       "    <tr>\n",
       "      <th>Female</th>\n",
       "      <td>65899</td>\n",
       "    </tr>\n",
       "  </tbody>\n",
       "</table>\n",
       "</div>"
      ],
      "text/plain": [
       "        Counts\n",
       "Male     63981\n",
       "Female   65899"
      ]
     },
     "execution_count": 17,
     "metadata": {},
     "output_type": "execute_result"
    }
   ],
   "source": [
    "# Unique Gender Count\n",
    "Male = len(df[df['Gender']=='Male'])\n",
    "Female = len(df[df['Gender']=='Female'])\n",
    "\n",
    "sex_label = ['Male','Female'] \n",
    "sex_data = [Male,Female]\n",
    "sex = pd.DataFrame(data = sex_data,index=sex_label,columns =['Counts'])\n",
    "\n",
    "sex\n",
    "# can also be done like this \n",
    "# sex_p=  df.Gender.value_counts()\n",
    "# plt.pie(sex_p, sex.index, autopct = '%1.2f%')"
   ]
  },
  {
   "cell_type": "code",
   "execution_count": 53,
   "id": "24455938",
   "metadata": {},
   "outputs": [
    {
     "data": {
      "image/png": "[encoded data removed]",
      "text/plain": [
       "<Figure size 432x288 with 1 Axes>"
      ]
     },
     "metadata": {},
     "output_type": "display_data"
    }
   ],
   "source": [
    "#pie chart for Gender counts\n",
    "plt.pie(sex_data,labels=['Male','Female'], autopct='%1.2f%%')\n",
    "plt.show()"
   ]
  },
  {
   "cell_type": "code",
   "execution_count": 46,
   "id": "72f0c329",
   "metadata": {},
   "outputs": [
    {
     "data": {
      "text/html": [
       "<div>\n",
       "<style scoped>\n",
       "    .dataframe tbody tr th:only-of-type {\n",
       "        vertical-align: middle;\n",
       "    }\n",
       "\n",
       "    .dataframe tbody tr th {\n",
       "        vertical-align: top;\n",
       "    }\n",
       "\n",
       "    .dataframe thead th {\n",
       "        text-align: right;\n",
       "    }\n",
       "</style>\n",
       "<table border=\"1\" class=\"dataframe\">\n",
       "  <thead>\n",
       "    <tr style=\"text-align: right;\">\n",
       "      <th></th>\n",
       "      <th>Customer Type</th>\n",
       "    </tr>\n",
       "  </thead>\n",
       "  <tbody>\n",
       "    <tr>\n",
       "      <th>Returning</th>\n",
       "      <td>106100</td>\n",
       "    </tr>\n",
       "    <tr>\n",
       "      <th>First-time</th>\n",
       "      <td>23780</td>\n",
       "    </tr>\n",
       "  </tbody>\n",
       "</table>\n",
       "</div>"
      ],
      "text/plain": [
       "            Customer Type\n",
       "Returning          106100\n",
       "First-time          23780"
      ]
     },
     "execution_count": 46,
     "metadata": {},
     "output_type": "execute_result"
    }
   ],
   "source": [
    "# Customer type Value Counts\n",
    "Customer_Type = pd.DataFrame(df['Customer Type'].value_counts())\n",
    "Customer_Type"
   ]
  },
  {
   "cell_type": "code",
   "execution_count": 51,
   "id": "d4ae1fe9",
   "metadata": {},
   "outputs": [
    {
     "data": {
      "image/png": "[encoded data removed]",
      "text/plain": [
       "<Figure size 432x288 with 1 Axes>"
      ]
     },
     "metadata": {},
     "output_type": "display_data"
    }
   ],
   "source": [
    "plt.pie(Customer_Type['Customer Type'],labels = Customer_Type.index , autopct = '%1.2f%%')\n",
    "plt.show()"
   ]
  },
  {
   "cell_type": "code",
   "execution_count": 59,
   "id": "579925aa",
   "metadata": {},
   "outputs": [
    {
     "data": {
      "text/plain": [
       "array([89693, 40187], dtype=int64)"
      ]
     },
     "execution_count": 59,
     "metadata": {},
     "output_type": "execute_result"
    }
   ],
   "source": [
    "# Type of travel count \n",
    "Type_of_Travel = df['Type of Travel'].value_counts()\n",
    "Type_of_Travel.values"
   ]
  },
  {
   "cell_type": "code",
   "execution_count": 61,
   "id": "c2d588f7",
   "metadata": {},
   "outputs": [
    {
     "data": {
      "image/png": "[encoded data removed]",
      "text/plain": [
       "<Figure size 432x288 with 1 Axes>"
      ]
     },
     "metadata": {},
     "output_type": "display_data"
    }
   ],
   "source": [
    "# visualize the Type of Travel for the Airline \n",
    "plt.pie(Type_of_Travel.values, labels= Type_of_Travel.index, autopct = '%1.2f%%')\n",
    "\n",
    "plt.show()"
   ]
  },
  {
   "cell_type": "code",
   "execution_count": 20,
   "id": "989e13f7",
   "metadata": {},
   "outputs": [
    {
     "data": {
      "text/html": [
       "<div>\n",
       "<style scoped>\n",
       "    .dataframe tbody tr th:only-of-type {\n",
       "        vertical-align: middle;\n",
       "    }\n",
       "\n",
       "    .dataframe tbody tr th {\n",
       "        vertical-align: top;\n",
       "    }\n",
       "\n",
       "    .dataframe thead th {\n",
       "        text-align: right;\n",
       "    }\n",
       "</style>\n",
       "<table border=\"1\" class=\"dataframe\">\n",
       "  <thead>\n",
       "    <tr style=\"text-align: right;\">\n",
       "      <th></th>\n",
       "      <th>Satisfaction</th>\n",
       "      <th>Gender</th>\n",
       "      <th>Class</th>\n",
       "      <th>Counts</th>\n",
       "    </tr>\n",
       "  </thead>\n",
       "  <tbody>\n",
       "    <tr>\n",
       "      <th>0</th>\n",
       "      <td>Neutral or Dissatisfied</td>\n",
       "      <td>Female</td>\n",
       "      <td>Economy</td>\n",
       "      <td>24171</td>\n",
       "    </tr>\n",
       "    <tr>\n",
       "      <th>1</th>\n",
       "      <td>Neutral or Dissatisfied</td>\n",
       "      <td>Male</td>\n",
       "      <td>Economy</td>\n",
       "      <td>23195</td>\n",
       "    </tr>\n",
       "    <tr>\n",
       "      <th>2</th>\n",
       "      <td>Neutral or Dissatisfied</td>\n",
       "      <td>Female</td>\n",
       "      <td>Business</td>\n",
       "      <td>9663</td>\n",
       "    </tr>\n",
       "    <tr>\n",
       "      <th>3</th>\n",
       "      <td>Neutral or Dissatisfied</td>\n",
       "      <td>Male</td>\n",
       "      <td>Business</td>\n",
       "      <td>9331</td>\n",
       "    </tr>\n",
       "    <tr>\n",
       "      <th>4</th>\n",
       "      <td>Neutral or Dissatisfied</td>\n",
       "      <td>Female</td>\n",
       "      <td>Economy Plus</td>\n",
       "      <td>3796</td>\n",
       "    </tr>\n",
       "    <tr>\n",
       "      <th>5</th>\n",
       "      <td>Neutral or Dissatisfied</td>\n",
       "      <td>Male</td>\n",
       "      <td>Economy Plus</td>\n",
       "      <td>3296</td>\n",
       "    </tr>\n",
       "    <tr>\n",
       "      <th>6</th>\n",
       "      <td>Satisfied</td>\n",
       "      <td>Female</td>\n",
       "      <td>Business</td>\n",
       "      <td>21600</td>\n",
       "    </tr>\n",
       "    <tr>\n",
       "      <th>7</th>\n",
       "      <td>Satisfied</td>\n",
       "      <td>Male</td>\n",
       "      <td>Business</td>\n",
       "      <td>21566</td>\n",
       "    </tr>\n",
       "    <tr>\n",
       "      <th>8</th>\n",
       "      <td>Satisfied</td>\n",
       "      <td>Female</td>\n",
       "      <td>Economy</td>\n",
       "      <td>5499</td>\n",
       "    </tr>\n",
       "    <tr>\n",
       "      <th>9</th>\n",
       "      <td>Satisfied</td>\n",
       "      <td>Male</td>\n",
       "      <td>Economy</td>\n",
       "      <td>5444</td>\n",
       "    </tr>\n",
       "    <tr>\n",
       "      <th>10</th>\n",
       "      <td>Satisfied</td>\n",
       "      <td>Female</td>\n",
       "      <td>Economy Plus</td>\n",
       "      <td>1170</td>\n",
       "    </tr>\n",
       "    <tr>\n",
       "      <th>11</th>\n",
       "      <td>Satisfied</td>\n",
       "      <td>Male</td>\n",
       "      <td>Economy Plus</td>\n",
       "      <td>1149</td>\n",
       "    </tr>\n",
       "  </tbody>\n",
       "</table>\n",
       "</div>"
      ],
      "text/plain": [
       "               Satisfaction  Gender         Class  Counts\n",
       "0   Neutral or Dissatisfied  Female       Economy   24171\n",
       "1   Neutral or Dissatisfied    Male       Economy   23195\n",
       "2   Neutral or Dissatisfied  Female      Business    9663\n",
       "3   Neutral or Dissatisfied    Male      Business    9331\n",
       "4   Neutral or Dissatisfied  Female  Economy Plus    3796\n",
       "5   Neutral or Dissatisfied    Male  Economy Plus    3296\n",
       "6                 Satisfied  Female      Business   21600\n",
       "7                 Satisfied    Male      Business   21566\n",
       "8                 Satisfied  Female       Economy    5499\n",
       "9                 Satisfied    Male       Economy    5444\n",
       "10                Satisfied  Female  Economy Plus    1170\n",
       "11                Satisfied    Male  Economy Plus    1149"
      ]
     },
     "execution_count": 20,
     "metadata": {},
     "output_type": "execute_result"
    }
   ],
   "source": [
    "# satisfaction counts for by gender and Class\n",
    "groupby_satisfaction = df.groupby('Satisfaction')[['Gender','Class']]\n",
    "satis_by_class_gender =  pd.DataFrame(groupby_satisfaction.value_counts())\n",
    "satis_by_class_gender.reset_index(inplace=True)\n",
    "satis_by_class_gender.rename(columns={0:'Counts'},inplace=True)\n",
    "\n",
    "satis_by_class_gender"
   ]
  },
  {
   "cell_type": "code",
   "execution_count": 21,
   "id": "7a7e2719",
   "metadata": {},
   "outputs": [
    {
     "data": {
      "text/plain": [
       "<AxesSubplot:xlabel='Gender', ylabel='Counts'>"
      ]
     },
     "execution_count": 21,
     "metadata": {},
     "output_type": "execute_result"
    },
    {
     "data": {
      "image/png": "[encoded data removed]",
      "text/plain": [
       "<Figure size 432x288 with 1 Axes>"
      ]
     },
     "metadata": {},
     "output_type": "display_data"
    }
   ],
   "source": [
    "sns.barplot(data=satis_by_class_gender,x= 'Gender',y='Counts')"
   ]
  },
  {
   "cell_type": "code",
   "execution_count": 22,
   "id": "5d143230",
   "metadata": {},
   "outputs": [],
   "source": [
    "sat_female_class_counts  = satis_by_class_gender[satis_by_class_gender['Gender'] == 'Female']\n",
    "sat_female_Business_counts = sat_female_class_counts[sat_female_class_counts['Class'] == 'Business']\n",
    "sat_female_Ecoplus_counts = sat_female_class_counts[sat_female_class_counts['Class'] == 'Economy Plus']\n",
    "sat_female_Eco_counts = sat_female_class_counts[sat_female_class_counts['Class'] == 'Economy']\n",
    "\n",
    "\n",
    "sat_male_class_counts  = satis_by_class_gender[satis_by_class_gender['Gender'] == 'Male']\n",
    "sat_male_Business_counts = sat_male_class_counts[sat_male_class_counts['Class'] == 'Business']\n",
    "sat_male_Ecoplus_counts = sat_male_class_counts[sat_male_class_counts['Class'] == 'Economy Plus']\n",
    "sat_male_Eco_counts = sat_male_class_counts[sat_male_class_counts['Class'] == 'Economy']\n",
    "sat_female_Business_counts \n",
    "\n",
    "sat_class_gender = satis_by_class_gender[satis_by_class_gender['Satisfaction'] == 'Satisfied']\n",
    "dis_class_gender = satis_by_class_gender[satis_by_class_gender['Satisfaction'] == 'Neutral or Dissatisfied']\n"
   ]
  },
  {
   "cell_type": "code",
   "execution_count": 23,
   "id": "801f2887",
   "metadata": {},
   "outputs": [
    {
     "data": {
      "image/png": "[encoded data removed]",
      "text/plain": [
       "<Figure size 576x432 with 1 Axes>"
      ]
     },
     "metadata": {},
     "output_type": "display_data"
    }
   ],
   "source": [
    "n = len(sat_female_Business_counts['Counts'])\n",
    "r = np.arange(n)\n",
    "width = 0.25\n",
    "plt.figure(figsize = (8,6))\n",
    "plt.bar(r,sat_female_Business_counts['Counts'], color='g',\n",
    "       width = width, edgecolor = 'black',label='Female')\n",
    "plt.bar(r + width,sat_male_Business_counts['Counts'], color='b',\n",
    "       width = width, edgecolor = 'black',label='Male')\n",
    "\n",
    "plt.xlabel('Satisfaction',fontsize = 14)\n",
    "plt.ylabel('Counts', fontsize = 14)\n",
    "plt.title('Airline Business Class Satisfaction Between Male and Female',fontsize = 20)\n",
    "\n",
    "plt.xticks(r + width/2,['Neutral or Dissatisfed','Satisfied'])\n",
    "plt.legend()\n",
    "\n",
    "plt.show()"
   ]
  },
  {
   "cell_type": "code",
   "execution_count": 24,
   "id": "e100fb10",
   "metadata": {},
   "outputs": [
    {
     "data": {
      "text/plain": [
       "<AxesSubplot:xlabel='Customer Type', ylabel='count'>"
      ]
     },
     "execution_count": 24,
     "metadata": {},
     "output_type": "execute_result"
    },
    {
     "data": {
      "image/png": "[encoded data removed]",
      "text/plain": [
       "<Figure size 432x288 with 1 Axes>"
      ]
     },
     "metadata": {},
     "output_type": "display_data"
    }
   ],
   "source": [
    "sns.countplot(data = df, x='Customer Type')"
   ]
  },
  {
   "cell_type": "code",
   "execution_count": 25,
   "id": "d64b3d74",
   "metadata": {},
   "outputs": [
    {
     "data": {
      "text/plain": [
       "(0    5008\n",
       " 1    4954\n",
       " 2    4882\n",
       " 3    4710\n",
       " 4    4194\n",
       " 5      32\n",
       " Name: Counts, dtype: int64,\n",
       " 6     25555\n",
       " 7     23247\n",
       " 8     22840\n",
       " 9     22501\n",
       " 10    11857\n",
       " 11      100\n",
       " Name: Counts, dtype: int64)"
      ]
     },
     "execution_count": 25,
     "metadata": {},
     "output_type": "execute_result"
    }
   ],
   "source": [
    "customer_foods =  pd.DataFrame(df.groupby('Customer Type')['Food and Drink'].value_counts())\n",
    "customer_foods.rename(columns={'Food and Drink': 'Counts'},inplace=True)\n",
    "customer_foods.reset_index(inplace=True)\n",
    "customer_foods_first_timers = customer_foods[customer_foods['Customer Type'] == 'First-time']\n",
    "customer_foods_Returning = customer_foods[customer_foods['Customer Type'] == 'Returning']\n",
    "customer_foods_first_timers['Counts'],customer_foods_Returning['Counts']"
   ]
  },
  {
   "cell_type": "code",
   "execution_count": 30,
   "id": "1999245f",
   "metadata": {},
   "outputs": [
    {
     "data": {
      "text/plain": [
       "<matplotlib.legend.Legend at 0x1bc5ed62160>"
      ]
     },
     "execution_count": 30,
     "metadata": {},
     "output_type": "execute_result"
    },
    {
     "data": {
      "image/png": "[encoded data removed]",
      "text/plain": [
       "<Figure size 576x432 with 1 Axes>"
      ]
     },
     "metadata": {},
     "output_type": "display_data"
    }
   ],
   "source": [
    "n = len(customer_foods_first_timers['Counts'])\n",
    "r = np.arange(n)\n",
    "width = 0.25\n",
    "\n",
    "plt.figure(figsize=(8,6))\n",
    "plt.bar(r,customer_foods_first_timers['Counts'], color='g',\n",
    "       width = width, edgecolor = 'black',label='First-time')\n",
    "plt.bar(r + width,customer_foods_Returning['Counts'], color='b',\n",
    "       width = width, edgecolor = 'black',label='Returning')\n",
    "\n",
    "                                           \n",
    "                                           \n",
    "plt.xlabel('Ratings',fontsize = 14)\n",
    "plt.ylabel('Counts', fontsize = 14)\n",
    "plt.title('Airline Customer Type Satisfaction For Foods and Drinks',fontsize = 20)\n",
    "\n",
    "plt.xticks(r+ width/2,['Excellent','Very Good','Good','Fair','Poor','Very Poor'])\n",
    "plt.legend()\n",
    "                                           "
   ]
  },
  {
   "cell_type": "code",
   "execution_count": 27,
   "id": "f8addabb",
   "metadata": {},
   "outputs": [
    {
     "data": {
      "image/png": "[encoded data removed]",
      "text/plain": [
       "<Figure size 576x432 with 1 Axes>"
      ]
     },
     "metadata": {},
     "output_type": "display_data"
    }
   ],
   "source": [
    "n = 2\n",
    "r = np.arange(n)\n",
    "width = 0.25\n",
    "plt.figure(figsize = (8,6))\n",
    "plt.bar(r,sat_female_Business_counts['Counts'], color='g',\n",
    "       width = width, edgecolor = 'black',label='Business')\n",
    "plt.bar(r + width,sat_female_Eco_counts['Counts'], color='b',\n",
    "       width = width, edgecolor = 'black',label='Economy')\n",
    "plt.bar(r + width + width,sat_female_Ecoplus_counts['Counts'], color='y',\n",
    "       width = width, edgecolor = 'black',label='Economy Plus')\n",
    "\n",
    "plt.xlabel('Satisfaction',fontsize = 14)\n",
    "plt.ylabel('Counts', fontsize = 14)\n",
    "plt.title('Airline classes satisfaction for female Counts',fontsize = 20)\n",
    "\n",
    "plt.xticks(r + width/2,['Neutral or Dissatisfed','Satisfied'])\n",
    "plt.legend()\n",
    "\n",
    "plt.show()"
   ]
  },
  {
   "cell_type": "code",
   "execution_count": 28,
   "id": "4c497db1",
   "metadata": {},
   "outputs": [
    {
     "data": {
      "image/png": "[encoded data removed]",
      "text/plain": [
       "<Figure size 576x432 with 1 Axes>"
      ]
     },
     "metadata": {},
     "output_type": "display_data"
    }
   ],
   "source": [
    "n = 2\n",
    "r = np.arange(n)\n",
    "width = 0.25\n",
    "plt.figure(figsize = (8,6))\n",
    "plt.bar(r,sat_male_Business_counts['Counts'], color='g',\n",
    "       width = width, edgecolor = 'black',label='Business')\n",
    "plt.bar(r + width,sat_male_Eco_counts['Counts'], color='b',\n",
    "       width = width, edgecolor = 'black',label='Economy')\n",
    "plt.bar(r + width + width, sat_male_Ecoplus_counts['Counts'], color='y',\n",
    "       width = width, edgecolor = 'black',label='Economy Plus')\n",
    "\n",
    "plt.xlabel('Satisfaction',fontsize = 14)\n",
    "plt.ylabel('Counts', fontsize = 14)\n",
    "plt.title('Airline Classes Satisfaction For Male Counts',fontsize = 20)\n",
    "\n",
    "plt.xticks(r + width/2,['Neutral or Dissatisfed','Satisfied'])\n",
    "plt.legend()\n",
    "\n",
    "plt.show()"
   ]
  },
  {
   "cell_type": "code",
   "execution_count": null,
   "id": "5204b9a0",
   "metadata": {},
   "outputs": [],
   "source": []
  }
 ],
 "metadata": {
  "kernelspec": {
   "display_name": "Python 3 (ipykernel)",
   "language": "python",
   "name": "python3"
  },
  "language_info": {
   "codemirror_mode": {
    "name": "ipython",
    "version": 3
   },
   "file_extension": ".py",
   "mimetype": "text/x-python",
   "name": "python",
   "nbconvert_exporter": "python",
   "pygments_lexer": "ipython3",
   "version": "3.9.12"
  }
 },
 "nbformat": 4,
 "nbformat_minor": 5
}
