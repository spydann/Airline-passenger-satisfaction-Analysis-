{
 "cells": [
  {
   "cell_type": "code",
   "execution_count": 1,
   "id": "e2dbf283",
   "metadata": {},
   "outputs": [],
   "source": [
    "import pandas as pd \n",
    "import numpy as np \n",
    "import seaborn as sns \n",
    "import matplotlib.pyplot as plt \n",
    "\n",
    "\n",
    "\n",
    "\n",
    "sns.set()"
   ]
  },
  {
   "cell_type": "code",
   "execution_count": 3,
   "id": "eeddd8bc",
   "metadata": {},
   "outputs": [
    {
     "data": {
      "text/html": [
       "<div>\n",
       "<style scoped>\n",
       "    .dataframe tbody tr th:only-of-type {\n",
       "        vertical-align: middle;\n",
       "    }\n",
       "\n",
       "    .dataframe tbody tr th {\n",
       "        vertical-align: top;\n",
       "    }\n",
       "\n",
       "    .dataframe thead th {\n",
       "        text-align: right;\n",
       "    }\n",
       "</style>\n",
       "<table border=\"1\" class=\"dataframe\">\n",
       "  <thead>\n",
       "    <tr style=\"text-align: right;\">\n",
       "      <th></th>\n",
       "      <th>Gender</th>\n",
       "      <th>Age</th>\n",
       "      <th>Customer Type</th>\n",
       "      <th>Type of Travel</th>\n",
       "      <th>Class</th>\n",
       "      <th>Flight Distance</th>\n",
       "      <th>Departure Delay</th>\n",
       "      <th>Arrival Delay</th>\n",
       "      <th>Departure and Arrival Time Convenience</th>\n",
       "      <th>Ease of Online Booking</th>\n",
       "      <th>...</th>\n",
       "      <th>On-board Service</th>\n",
       "      <th>Seat Comfort</th>\n",
       "      <th>Leg Room Service</th>\n",
       "      <th>Cleanliness</th>\n",
       "      <th>Food and Drink</th>\n",
       "      <th>In-flight Service</th>\n",
       "      <th>In-flight Wifi Service</th>\n",
       "      <th>In-flight Entertainment</th>\n",
       "      <th>Baggage Handling</th>\n",
       "      <th>Satisfaction</th>\n",
       "    </tr>\n",
       "    <tr>\n",
       "      <th>ID</th>\n",
       "      <th></th>\n",
       "      <th></th>\n",
       "      <th></th>\n",
       "      <th></th>\n",
       "      <th></th>\n",
       "      <th></th>\n",
       "      <th></th>\n",
       "      <th></th>\n",
       "      <th></th>\n",
       "      <th></th>\n",
       "      <th></th>\n",
       "      <th></th>\n",
       "      <th></th>\n",
       "      <th></th>\n",
       "      <th></th>\n",
       "      <th></th>\n",
       "      <th></th>\n",
       "      <th></th>\n",
       "      <th></th>\n",
       "      <th></th>\n",
       "      <th></th>\n",
       "    </tr>\n",
       "  </thead>\n",
       "  <tbody>\n",
       "    <tr>\n",
       "      <th>1</th>\n",
       "      <td>Male</td>\n",
       "      <td>48</td>\n",
       "      <td>First-time</td>\n",
       "      <td>Business</td>\n",
       "      <td>Business</td>\n",
       "      <td>821</td>\n",
       "      <td>2</td>\n",
       "      <td>5.0</td>\n",
       "      <td>3</td>\n",
       "      <td>3</td>\n",
       "      <td>...</td>\n",
       "      <td>3</td>\n",
       "      <td>5</td>\n",
       "      <td>2</td>\n",
       "      <td>5</td>\n",
       "      <td>5</td>\n",
       "      <td>5</td>\n",
       "      <td>3</td>\n",
       "      <td>5</td>\n",
       "      <td>5</td>\n",
       "      <td>Neutral or Dissatisfied</td>\n",
       "    </tr>\n",
       "    <tr>\n",
       "      <th>2</th>\n",
       "      <td>Female</td>\n",
       "      <td>35</td>\n",
       "      <td>Returning</td>\n",
       "      <td>Business</td>\n",
       "      <td>Business</td>\n",
       "      <td>821</td>\n",
       "      <td>26</td>\n",
       "      <td>39.0</td>\n",
       "      <td>2</td>\n",
       "      <td>2</td>\n",
       "      <td>...</td>\n",
       "      <td>5</td>\n",
       "      <td>4</td>\n",
       "      <td>5</td>\n",
       "      <td>5</td>\n",
       "      <td>3</td>\n",
       "      <td>5</td>\n",
       "      <td>2</td>\n",
       "      <td>5</td>\n",
       "      <td>5</td>\n",
       "      <td>Satisfied</td>\n",
       "    </tr>\n",
       "    <tr>\n",
       "      <th>3</th>\n",
       "      <td>Male</td>\n",
       "      <td>41</td>\n",
       "      <td>Returning</td>\n",
       "      <td>Business</td>\n",
       "      <td>Business</td>\n",
       "      <td>853</td>\n",
       "      <td>0</td>\n",
       "      <td>0.0</td>\n",
       "      <td>4</td>\n",
       "      <td>4</td>\n",
       "      <td>...</td>\n",
       "      <td>3</td>\n",
       "      <td>5</td>\n",
       "      <td>3</td>\n",
       "      <td>5</td>\n",
       "      <td>5</td>\n",
       "      <td>3</td>\n",
       "      <td>4</td>\n",
       "      <td>3</td>\n",
       "      <td>3</td>\n",
       "      <td>Satisfied</td>\n",
       "    </tr>\n",
       "    <tr>\n",
       "      <th>4</th>\n",
       "      <td>Male</td>\n",
       "      <td>50</td>\n",
       "      <td>Returning</td>\n",
       "      <td>Business</td>\n",
       "      <td>Business</td>\n",
       "      <td>1905</td>\n",
       "      <td>0</td>\n",
       "      <td>0.0</td>\n",
       "      <td>2</td>\n",
       "      <td>2</td>\n",
       "      <td>...</td>\n",
       "      <td>5</td>\n",
       "      <td>5</td>\n",
       "      <td>5</td>\n",
       "      <td>4</td>\n",
       "      <td>4</td>\n",
       "      <td>5</td>\n",
       "      <td>2</td>\n",
       "      <td>5</td>\n",
       "      <td>5</td>\n",
       "      <td>Satisfied</td>\n",
       "    </tr>\n",
       "    <tr>\n",
       "      <th>5</th>\n",
       "      <td>Female</td>\n",
       "      <td>49</td>\n",
       "      <td>Returning</td>\n",
       "      <td>Business</td>\n",
       "      <td>Business</td>\n",
       "      <td>3470</td>\n",
       "      <td>0</td>\n",
       "      <td>1.0</td>\n",
       "      <td>3</td>\n",
       "      <td>3</td>\n",
       "      <td>...</td>\n",
       "      <td>3</td>\n",
       "      <td>4</td>\n",
       "      <td>4</td>\n",
       "      <td>5</td>\n",
       "      <td>4</td>\n",
       "      <td>3</td>\n",
       "      <td>3</td>\n",
       "      <td>3</td>\n",
       "      <td>3</td>\n",
       "      <td>Satisfied</td>\n",
       "    </tr>\n",
       "  </tbody>\n",
       "</table>\n",
       "<p>5 rows × 23 columns</p>\n",
       "</div>"
      ],
      "text/plain": [
       "    Gender  Age Customer Type Type of Travel     Class  Flight Distance  \\\n",
       "ID                                                                        \n",
       "1     Male   48    First-time       Business  Business              821   \n",
       "2   Female   35     Returning       Business  Business              821   \n",
       "3     Male   41     Returning       Business  Business              853   \n",
       "4     Male   50     Returning       Business  Business             1905   \n",
       "5   Female   49     Returning       Business  Business             3470   \n",
       "\n",
       "    Departure Delay  Arrival Delay  Departure and Arrival Time Convenience  \\\n",
       "ID                                                                           \n",
       "1                 2            5.0                                       3   \n",
       "2                26           39.0                                       2   \n",
       "3                 0            0.0                                       4   \n",
       "4                 0            0.0                                       2   \n",
       "5                 0            1.0                                       3   \n",
       "\n",
       "    Ease of Online Booking  ...  On-board Service  Seat Comfort  \\\n",
       "ID                          ...                                   \n",
       "1                        3  ...                 3             5   \n",
       "2                        2  ...                 5             4   \n",
       "3                        4  ...                 3             5   \n",
       "4                        2  ...                 5             5   \n",
       "5                        3  ...                 3             4   \n",
       "\n",
       "    Leg Room Service  Cleanliness  Food and Drink  In-flight Service  \\\n",
       "ID                                                                     \n",
       "1                  2            5               5                  5   \n",
       "2                  5            5               3                  5   \n",
       "3                  3            5               5                  3   \n",
       "4                  5            4               4                  5   \n",
       "5                  4            5               4                  3   \n",
       "\n",
       "    In-flight Wifi Service  In-flight Entertainment  Baggage Handling  \\\n",
       "ID                                                                      \n",
       "1                        3                        5                 5   \n",
       "2                        2                        5                 5   \n",
       "3                        4                        3                 3   \n",
       "4                        2                        5                 5   \n",
       "5                        3                        3                 3   \n",
       "\n",
       "               Satisfaction  \n",
       "ID                           \n",
       "1   Neutral or Dissatisfied  \n",
       "2                 Satisfied  \n",
       "3                 Satisfied  \n",
       "4                 Satisfied  \n",
       "5                 Satisfied  \n",
       "\n",
       "[5 rows x 23 columns]"
      ]
     },
     "execution_count": 3,
     "metadata": {},
     "output_type": "execute_result"
    }
   ],
   "source": [
    "df = pd.read_csv('airline_passenger_satisfaction.csv', index_col ='ID')\n",
    "df.head()"
   ]
  },
  {
   "cell_type": "code",
   "execution_count": 5,
   "id": "ff1c2c6a",
   "metadata": {},
   "outputs": [
    {
     "data": {
      "text/plain": [
       "(129880, 23)"
      ]
     },
     "execution_count": 5,
     "metadata": {},
     "output_type": "execute_result"
    }
   ],
   "source": [
    "df.shape"
   ]
  },
  {
   "cell_type": "code",
   "execution_count": 4,
   "id": "06a094bf",
   "metadata": {},
   "outputs": [
    {
     "data": {
      "text/html": [
       "<div>\n",
       "<style scoped>\n",
       "    .dataframe tbody tr th:only-of-type {\n",
       "        vertical-align: middle;\n",
       "    }\n",
       "\n",
       "    .dataframe tbody tr th {\n",
       "        vertical-align: top;\n",
       "    }\n",
       "\n",
       "    .dataframe thead th {\n",
       "        text-align: right;\n",
       "    }\n",
       "</style>\n",
       "<table border=\"1\" class=\"dataframe\">\n",
       "  <thead>\n",
       "    <tr style=\"text-align: right;\">\n",
       "      <th></th>\n",
       "      <th>Gender</th>\n",
       "      <th>Age</th>\n",
       "      <th>Customer Type</th>\n",
       "      <th>Type of Travel</th>\n",
       "      <th>Class</th>\n",
       "      <th>Flight Distance</th>\n",
       "      <th>Departure Delay</th>\n",
       "      <th>Arrival Delay</th>\n",
       "      <th>Departure and Arrival Time Convenience</th>\n",
       "      <th>Ease of Online Booking</th>\n",
       "      <th>...</th>\n",
       "      <th>On-board Service</th>\n",
       "      <th>Seat Comfort</th>\n",
       "      <th>Leg Room Service</th>\n",
       "      <th>Cleanliness</th>\n",
       "      <th>Food and Drink</th>\n",
       "      <th>In-flight Service</th>\n",
       "      <th>In-flight Wifi Service</th>\n",
       "      <th>In-flight Entertainment</th>\n",
       "      <th>Baggage Handling</th>\n",
       "      <th>Satisfaction</th>\n",
       "    </tr>\n",
       "  </thead>\n",
       "  <tbody>\n",
       "    <tr>\n",
       "      <th>count</th>\n",
       "      <td>129880</td>\n",
       "      <td>129880.000000</td>\n",
       "      <td>129880</td>\n",
       "      <td>129880</td>\n",
       "      <td>129880</td>\n",
       "      <td>129880.000000</td>\n",
       "      <td>129880.000000</td>\n",
       "      <td>129487.000000</td>\n",
       "      <td>129880.000000</td>\n",
       "      <td>129880.000000</td>\n",
       "      <td>...</td>\n",
       "      <td>129880.000000</td>\n",
       "      <td>129880.000000</td>\n",
       "      <td>129880.000000</td>\n",
       "      <td>129880.000000</td>\n",
       "      <td>129880.000000</td>\n",
       "      <td>129880.000000</td>\n",
       "      <td>129880.000000</td>\n",
       "      <td>129880.000000</td>\n",
       "      <td>129880.000000</td>\n",
       "      <td>129880</td>\n",
       "    </tr>\n",
       "    <tr>\n",
       "      <th>unique</th>\n",
       "      <td>2</td>\n",
       "      <td>NaN</td>\n",
       "      <td>2</td>\n",
       "      <td>2</td>\n",
       "      <td>3</td>\n",
       "      <td>NaN</td>\n",
       "      <td>NaN</td>\n",
       "      <td>NaN</td>\n",
       "      <td>NaN</td>\n",
       "      <td>NaN</td>\n",
       "      <td>...</td>\n",
       "      <td>NaN</td>\n",
       "      <td>NaN</td>\n",
       "      <td>NaN</td>\n",
       "      <td>NaN</td>\n",
       "      <td>NaN</td>\n",
       "      <td>NaN</td>\n",
       "      <td>NaN</td>\n",
       "      <td>NaN</td>\n",
       "      <td>NaN</td>\n",
       "      <td>2</td>\n",
       "    </tr>\n",
       "    <tr>\n",
       "      <th>top</th>\n",
       "      <td>Female</td>\n",
       "      <td>NaN</td>\n",
       "      <td>Returning</td>\n",
       "      <td>Business</td>\n",
       "      <td>Business</td>\n",
       "      <td>NaN</td>\n",
       "      <td>NaN</td>\n",
       "      <td>NaN</td>\n",
       "      <td>NaN</td>\n",
       "      <td>NaN</td>\n",
       "      <td>...</td>\n",
       "      <td>NaN</td>\n",
       "      <td>NaN</td>\n",
       "      <td>NaN</td>\n",
       "      <td>NaN</td>\n",
       "      <td>NaN</td>\n",
       "      <td>NaN</td>\n",
       "      <td>NaN</td>\n",
       "      <td>NaN</td>\n",
       "      <td>NaN</td>\n",
       "      <td>Neutral or Dissatisfied</td>\n",
       "    </tr>\n",
       "    <tr>\n",
       "      <th>freq</th>\n",
       "      <td>65899</td>\n",
       "      <td>NaN</td>\n",
       "      <td>106100</td>\n",
       "      <td>89693</td>\n",
       "      <td>62160</td>\n",
       "      <td>NaN</td>\n",
       "      <td>NaN</td>\n",
       "      <td>NaN</td>\n",
       "      <td>NaN</td>\n",
       "      <td>NaN</td>\n",
       "      <td>...</td>\n",
       "      <td>NaN</td>\n",
       "      <td>NaN</td>\n",
       "      <td>NaN</td>\n",
       "      <td>NaN</td>\n",
       "      <td>NaN</td>\n",
       "      <td>NaN</td>\n",
       "      <td>NaN</td>\n",
       "      <td>NaN</td>\n",
       "      <td>NaN</td>\n",
       "      <td>73452</td>\n",
       "    </tr>\n",
       "    <tr>\n",
       "      <th>mean</th>\n",
       "      <td>NaN</td>\n",
       "      <td>39.427957</td>\n",
       "      <td>NaN</td>\n",
       "      <td>NaN</td>\n",
       "      <td>NaN</td>\n",
       "      <td>1190.316392</td>\n",
       "      <td>14.713713</td>\n",
       "      <td>15.091129</td>\n",
       "      <td>3.057599</td>\n",
       "      <td>2.756876</td>\n",
       "      <td>...</td>\n",
       "      <td>3.383023</td>\n",
       "      <td>3.441361</td>\n",
       "      <td>3.350878</td>\n",
       "      <td>3.286326</td>\n",
       "      <td>3.204774</td>\n",
       "      <td>3.642193</td>\n",
       "      <td>2.728696</td>\n",
       "      <td>3.358077</td>\n",
       "      <td>3.632114</td>\n",
       "      <td>NaN</td>\n",
       "    </tr>\n",
       "    <tr>\n",
       "      <th>std</th>\n",
       "      <td>NaN</td>\n",
       "      <td>15.119360</td>\n",
       "      <td>NaN</td>\n",
       "      <td>NaN</td>\n",
       "      <td>NaN</td>\n",
       "      <td>997.452477</td>\n",
       "      <td>38.071126</td>\n",
       "      <td>38.465650</td>\n",
       "      <td>1.526741</td>\n",
       "      <td>1.401740</td>\n",
       "      <td>...</td>\n",
       "      <td>1.287099</td>\n",
       "      <td>1.319289</td>\n",
       "      <td>1.316252</td>\n",
       "      <td>1.313682</td>\n",
       "      <td>1.329933</td>\n",
       "      <td>1.176669</td>\n",
       "      <td>1.329340</td>\n",
       "      <td>1.334049</td>\n",
       "      <td>1.180025</td>\n",
       "      <td>NaN</td>\n",
       "    </tr>\n",
       "    <tr>\n",
       "      <th>min</th>\n",
       "      <td>NaN</td>\n",
       "      <td>7.000000</td>\n",
       "      <td>NaN</td>\n",
       "      <td>NaN</td>\n",
       "      <td>NaN</td>\n",
       "      <td>31.000000</td>\n",
       "      <td>0.000000</td>\n",
       "      <td>0.000000</td>\n",
       "      <td>0.000000</td>\n",
       "      <td>0.000000</td>\n",
       "      <td>...</td>\n",
       "      <td>0.000000</td>\n",
       "      <td>0.000000</td>\n",
       "      <td>0.000000</td>\n",
       "      <td>0.000000</td>\n",
       "      <td>0.000000</td>\n",
       "      <td>0.000000</td>\n",
       "      <td>0.000000</td>\n",
       "      <td>0.000000</td>\n",
       "      <td>1.000000</td>\n",
       "      <td>NaN</td>\n",
       "    </tr>\n",
       "    <tr>\n",
       "      <th>25%</th>\n",
       "      <td>NaN</td>\n",
       "      <td>27.000000</td>\n",
       "      <td>NaN</td>\n",
       "      <td>NaN</td>\n",
       "      <td>NaN</td>\n",
       "      <td>414.000000</td>\n",
       "      <td>0.000000</td>\n",
       "      <td>0.000000</td>\n",
       "      <td>2.000000</td>\n",
       "      <td>2.000000</td>\n",
       "      <td>...</td>\n",
       "      <td>2.000000</td>\n",
       "      <td>2.000000</td>\n",
       "      <td>2.000000</td>\n",
       "      <td>2.000000</td>\n",
       "      <td>2.000000</td>\n",
       "      <td>3.000000</td>\n",
       "      <td>2.000000</td>\n",
       "      <td>2.000000</td>\n",
       "      <td>3.000000</td>\n",
       "      <td>NaN</td>\n",
       "    </tr>\n",
       "    <tr>\n",
       "      <th>50%</th>\n",
       "      <td>NaN</td>\n",
       "      <td>40.000000</td>\n",
       "      <td>NaN</td>\n",
       "      <td>NaN</td>\n",
       "      <td>NaN</td>\n",
       "      <td>844.000000</td>\n",
       "      <td>0.000000</td>\n",
       "      <td>0.000000</td>\n",
       "      <td>3.000000</td>\n",
       "      <td>3.000000</td>\n",
       "      <td>...</td>\n",
       "      <td>4.000000</td>\n",
       "      <td>4.000000</td>\n",
       "      <td>4.000000</td>\n",
       "      <td>3.000000</td>\n",
       "      <td>3.000000</td>\n",
       "      <td>4.000000</td>\n",
       "      <td>3.000000</td>\n",
       "      <td>4.000000</td>\n",
       "      <td>4.000000</td>\n",
       "      <td>NaN</td>\n",
       "    </tr>\n",
       "    <tr>\n",
       "      <th>75%</th>\n",
       "      <td>NaN</td>\n",
       "      <td>51.000000</td>\n",
       "      <td>NaN</td>\n",
       "      <td>NaN</td>\n",
       "      <td>NaN</td>\n",
       "      <td>1744.000000</td>\n",
       "      <td>12.000000</td>\n",
       "      <td>13.000000</td>\n",
       "      <td>4.000000</td>\n",
       "      <td>4.000000</td>\n",
       "      <td>...</td>\n",
       "      <td>4.000000</td>\n",
       "      <td>5.000000</td>\n",
       "      <td>4.000000</td>\n",
       "      <td>4.000000</td>\n",
       "      <td>4.000000</td>\n",
       "      <td>5.000000</td>\n",
       "      <td>4.000000</td>\n",
       "      <td>4.000000</td>\n",
       "      <td>5.000000</td>\n",
       "      <td>NaN</td>\n",
       "    </tr>\n",
       "    <tr>\n",
       "      <th>max</th>\n",
       "      <td>NaN</td>\n",
       "      <td>85.000000</td>\n",
       "      <td>NaN</td>\n",
       "      <td>NaN</td>\n",
       "      <td>NaN</td>\n",
       "      <td>4983.000000</td>\n",
       "      <td>1592.000000</td>\n",
       "      <td>1584.000000</td>\n",
       "      <td>5.000000</td>\n",
       "      <td>5.000000</td>\n",
       "      <td>...</td>\n",
       "      <td>5.000000</td>\n",
       "      <td>5.000000</td>\n",
       "      <td>5.000000</td>\n",
       "      <td>5.000000</td>\n",
       "      <td>5.000000</td>\n",
       "      <td>5.000000</td>\n",
       "      <td>5.000000</td>\n",
       "      <td>5.000000</td>\n",
       "      <td>5.000000</td>\n",
       "      <td>NaN</td>\n",
       "    </tr>\n",
       "  </tbody>\n",
       "</table>\n",
       "<p>11 rows × 23 columns</p>\n",
       "</div>"
      ],
      "text/plain": [
       "        Gender            Age Customer Type Type of Travel     Class  \\\n",
       "count   129880  129880.000000        129880         129880    129880   \n",
       "unique       2            NaN             2              2         3   \n",
       "top     Female            NaN     Returning       Business  Business   \n",
       "freq     65899            NaN        106100          89693     62160   \n",
       "mean       NaN      39.427957           NaN            NaN       NaN   \n",
       "std        NaN      15.119360           NaN            NaN       NaN   \n",
       "min        NaN       7.000000           NaN            NaN       NaN   \n",
       "25%        NaN      27.000000           NaN            NaN       NaN   \n",
       "50%        NaN      40.000000           NaN            NaN       NaN   \n",
       "75%        NaN      51.000000           NaN            NaN       NaN   \n",
       "max        NaN      85.000000           NaN            NaN       NaN   \n",
       "\n",
       "        Flight Distance  Departure Delay  Arrival Delay  \\\n",
       "count     129880.000000    129880.000000  129487.000000   \n",
       "unique              NaN              NaN            NaN   \n",
       "top                 NaN              NaN            NaN   \n",
       "freq                NaN              NaN            NaN   \n",
       "mean        1190.316392        14.713713      15.091129   \n",
       "std          997.452477        38.071126      38.465650   \n",
       "min           31.000000         0.000000       0.000000   \n",
       "25%          414.000000         0.000000       0.000000   \n",
       "50%          844.000000         0.000000       0.000000   \n",
       "75%         1744.000000        12.000000      13.000000   \n",
       "max         4983.000000      1592.000000    1584.000000   \n",
       "\n",
       "        Departure and Arrival Time Convenience  Ease of Online Booking  ...  \\\n",
       "count                            129880.000000           129880.000000  ...   \n",
       "unique                                     NaN                     NaN  ...   \n",
       "top                                        NaN                     NaN  ...   \n",
       "freq                                       NaN                     NaN  ...   \n",
       "mean                                  3.057599                2.756876  ...   \n",
       "std                                   1.526741                1.401740  ...   \n",
       "min                                   0.000000                0.000000  ...   \n",
       "25%                                   2.000000                2.000000  ...   \n",
       "50%                                   3.000000                3.000000  ...   \n",
       "75%                                   4.000000                4.000000  ...   \n",
       "max                                   5.000000                5.000000  ...   \n",
       "\n",
       "        On-board Service   Seat Comfort  Leg Room Service    Cleanliness  \\\n",
       "count      129880.000000  129880.000000     129880.000000  129880.000000   \n",
       "unique               NaN            NaN               NaN            NaN   \n",
       "top                  NaN            NaN               NaN            NaN   \n",
       "freq                 NaN            NaN               NaN            NaN   \n",
       "mean            3.383023       3.441361          3.350878       3.286326   \n",
       "std             1.287099       1.319289          1.316252       1.313682   \n",
       "min             0.000000       0.000000          0.000000       0.000000   \n",
       "25%             2.000000       2.000000          2.000000       2.000000   \n",
       "50%             4.000000       4.000000          4.000000       3.000000   \n",
       "75%             4.000000       5.000000          4.000000       4.000000   \n",
       "max             5.000000       5.000000          5.000000       5.000000   \n",
       "\n",
       "        Food and Drink  In-flight Service  In-flight Wifi Service  \\\n",
       "count    129880.000000      129880.000000           129880.000000   \n",
       "unique             NaN                NaN                     NaN   \n",
       "top                NaN                NaN                     NaN   \n",
       "freq               NaN                NaN                     NaN   \n",
       "mean          3.204774           3.642193                2.728696   \n",
       "std           1.329933           1.176669                1.329340   \n",
       "min           0.000000           0.000000                0.000000   \n",
       "25%           2.000000           3.000000                2.000000   \n",
       "50%           3.000000           4.000000                3.000000   \n",
       "75%           4.000000           5.000000                4.000000   \n",
       "max           5.000000           5.000000                5.000000   \n",
       "\n",
       "        In-flight Entertainment  Baggage Handling             Satisfaction  \n",
       "count             129880.000000     129880.000000                   129880  \n",
       "unique                      NaN               NaN                        2  \n",
       "top                         NaN               NaN  Neutral or Dissatisfied  \n",
       "freq                        NaN               NaN                    73452  \n",
       "mean                   3.358077          3.632114                      NaN  \n",
       "std                    1.334049          1.180025                      NaN  \n",
       "min                    0.000000          1.000000                      NaN  \n",
       "25%                    2.000000          3.000000                      NaN  \n",
       "50%                    4.000000          4.000000                      NaN  \n",
       "75%                    4.000000          5.000000                      NaN  \n",
       "max                    5.000000          5.000000                      NaN  \n",
       "\n",
       "[11 rows x 23 columns]"
      ]
     },
     "execution_count": 4,
     "metadata": {},
     "output_type": "execute_result"
    }
   ],
   "source": [
    "df.describe(include='all')"
   ]
  },
  {
   "cell_type": "code",
   "execution_count": 6,
   "id": "0eea2ec4",
   "metadata": {
    "scrolled": true
   },
   "outputs": [
    {
     "name": "stdout",
     "output_type": "stream",
     "text": [
      "<class 'pandas.core.frame.DataFrame'>\n",
      "Int64Index: 129880 entries, 1 to 129880\n",
      "Data columns (total 23 columns):\n",
      " #   Column                                  Non-Null Count   Dtype  \n",
      "---  ------                                  --------------   -----  \n",
      " 0   Gender                                  129880 non-null  object \n",
      " 1   Age                                     129880 non-null  int64  \n",
      " 2   Customer Type                           129880 non-null  object \n",
      " 3   Type of Travel                          129880 non-null  object \n",
      " 4   Class                                   129880 non-null  object \n",
      " 5   Flight Distance                         129880 non-null  int64  \n",
      " 6   Departure Delay                         129880 non-null  int64  \n",
      " 7   Arrival Delay                           129487 non-null  float64\n",
      " 8   Departure and Arrival Time Convenience  129880 non-null  int64  \n",
      " 9   Ease of Online Booking                  129880 non-null  int64  \n",
      " 10  Check-in Service                        129880 non-null  int64  \n",
      " 11  Online Boarding                         129880 non-null  int64  \n",
      " 12  Gate Location                           129880 non-null  int64  \n",
      " 13  On-board Service                        129880 non-null  int64  \n",
      " 14  Seat Comfort                            129880 non-null  int64  \n",
      " 15  Leg Room Service                        129880 non-null  int64  \n",
      " 16  Cleanliness                             129880 non-null  int64  \n",
      " 17  Food and Drink                          129880 non-null  int64  \n",
      " 18  In-flight Service                       129880 non-null  int64  \n",
      " 19  In-flight Wifi Service                  129880 non-null  int64  \n",
      " 20  In-flight Entertainment                 129880 non-null  int64  \n",
      " 21  Baggage Handling                        129880 non-null  int64  \n",
      " 22  Satisfaction                            129880 non-null  object \n",
      "dtypes: float64(1), int64(17), object(5)\n",
      "memory usage: 23.8+ MB\n"
     ]
    }
   ],
   "source": [
    "df.info()"
   ]
  },
  {
   "cell_type": "code",
   "execution_count": 11,
   "id": "6955e7f9",
   "metadata": {},
   "outputs": [
    {
     "data": {
      "text/plain": [
       "Index(['Departure and Arrival Time Convenience', 'Ease of Online Booking',\n",
       "       'Check-in Service', 'Online Boarding', 'Gate Location',\n",
       "       'On-board Service', 'Seat Comfort', 'Leg Room Service', 'Cleanliness',\n",
       "       'Food and Drink', 'In-flight Service', 'In-flight Wifi Service',\n",
       "       'In-flight Entertainment', 'Baggage Handling'],\n",
       "      dtype='object')"
      ]
     },
     "execution_count": 11,
     "metadata": {},
     "output_type": "execute_result"
    }
   ],
   "source": [
    "df.columns[8:22]"
   ]
  },
  {
   "cell_type": "code",
   "execution_count": 20,
   "id": "55866e08",
   "metadata": {},
   "outputs": [
    {
     "data": {
      "text/html": [
       "<div>\n",
       "<style scoped>\n",
       "    .dataframe tbody tr th:only-of-type {\n",
       "        vertical-align: middle;\n",
       "    }\n",
       "\n",
       "    .dataframe tbody tr th {\n",
       "        vertical-align: top;\n",
       "    }\n",
       "\n",
       "    .dataframe thead th {\n",
       "        text-align: right;\n",
       "    }\n",
       "</style>\n",
       "<table border=\"1\" class=\"dataframe\">\n",
       "  <thead>\n",
       "    <tr style=\"text-align: right;\">\n",
       "      <th></th>\n",
       "      <th>Gender</th>\n",
       "      <th>Age</th>\n",
       "      <th>Customer Type</th>\n",
       "      <th>Type of Travel</th>\n",
       "      <th>Class</th>\n",
       "      <th>Flight Distance</th>\n",
       "      <th>Departure Delay</th>\n",
       "      <th>Arrival Delay</th>\n",
       "      <th>Departure and Arrival Time Convenience</th>\n",
       "      <th>Ease of Online Booking</th>\n",
       "      <th>...</th>\n",
       "      <th>On-board Service</th>\n",
       "      <th>Seat Comfort</th>\n",
       "      <th>Leg Room Service</th>\n",
       "      <th>Cleanliness</th>\n",
       "      <th>Food and Drink</th>\n",
       "      <th>In-flight Service</th>\n",
       "      <th>In-flight Wifi Service</th>\n",
       "      <th>In-flight Entertainment</th>\n",
       "      <th>Baggage Handling</th>\n",
       "      <th>Satisfaction</th>\n",
       "    </tr>\n",
       "    <tr>\n",
       "      <th>ID</th>\n",
       "      <th></th>\n",
       "      <th></th>\n",
       "      <th></th>\n",
       "      <th></th>\n",
       "      <th></th>\n",
       "      <th></th>\n",
       "      <th></th>\n",
       "      <th></th>\n",
       "      <th></th>\n",
       "      <th></th>\n",
       "      <th></th>\n",
       "      <th></th>\n",
       "      <th></th>\n",
       "      <th></th>\n",
       "      <th></th>\n",
       "      <th></th>\n",
       "      <th></th>\n",
       "      <th></th>\n",
       "      <th></th>\n",
       "      <th></th>\n",
       "      <th></th>\n",
       "    </tr>\n",
       "  </thead>\n",
       "  <tbody>\n",
       "    <tr>\n",
       "      <th>1</th>\n",
       "      <td>Male</td>\n",
       "      <td>48</td>\n",
       "      <td>First-time</td>\n",
       "      <td>Business</td>\n",
       "      <td>Business</td>\n",
       "      <td>821</td>\n",
       "      <td>2</td>\n",
       "      <td>5.0</td>\n",
       "      <td>Good</td>\n",
       "      <td>Good</td>\n",
       "      <td>...</td>\n",
       "      <td>Good</td>\n",
       "      <td>Excellent</td>\n",
       "      <td>Fair</td>\n",
       "      <td>Excellent</td>\n",
       "      <td>Excellent</td>\n",
       "      <td>Excellent</td>\n",
       "      <td>Good</td>\n",
       "      <td>Excellent</td>\n",
       "      <td>Excellent</td>\n",
       "      <td>Neutral or Dissatisfied</td>\n",
       "    </tr>\n",
       "    <tr>\n",
       "      <th>2</th>\n",
       "      <td>Female</td>\n",
       "      <td>35</td>\n",
       "      <td>Returning</td>\n",
       "      <td>Business</td>\n",
       "      <td>Business</td>\n",
       "      <td>821</td>\n",
       "      <td>26</td>\n",
       "      <td>39.0</td>\n",
       "      <td>Fair</td>\n",
       "      <td>Fair</td>\n",
       "      <td>...</td>\n",
       "      <td>Excellent</td>\n",
       "      <td>Very Good</td>\n",
       "      <td>Excellent</td>\n",
       "      <td>Excellent</td>\n",
       "      <td>Good</td>\n",
       "      <td>Excellent</td>\n",
       "      <td>Fair</td>\n",
       "      <td>Excellent</td>\n",
       "      <td>Excellent</td>\n",
       "      <td>Satisfied</td>\n",
       "    </tr>\n",
       "    <tr>\n",
       "      <th>3</th>\n",
       "      <td>Male</td>\n",
       "      <td>41</td>\n",
       "      <td>Returning</td>\n",
       "      <td>Business</td>\n",
       "      <td>Business</td>\n",
       "      <td>853</td>\n",
       "      <td>0</td>\n",
       "      <td>0.0</td>\n",
       "      <td>Very Good</td>\n",
       "      <td>Very Good</td>\n",
       "      <td>...</td>\n",
       "      <td>Good</td>\n",
       "      <td>Excellent</td>\n",
       "      <td>Good</td>\n",
       "      <td>Excellent</td>\n",
       "      <td>Excellent</td>\n",
       "      <td>Good</td>\n",
       "      <td>Very Good</td>\n",
       "      <td>Good</td>\n",
       "      <td>Good</td>\n",
       "      <td>Satisfied</td>\n",
       "    </tr>\n",
       "    <tr>\n",
       "      <th>4</th>\n",
       "      <td>Male</td>\n",
       "      <td>50</td>\n",
       "      <td>Returning</td>\n",
       "      <td>Business</td>\n",
       "      <td>Business</td>\n",
       "      <td>1905</td>\n",
       "      <td>0</td>\n",
       "      <td>0.0</td>\n",
       "      <td>Fair</td>\n",
       "      <td>Fair</td>\n",
       "      <td>...</td>\n",
       "      <td>Excellent</td>\n",
       "      <td>Excellent</td>\n",
       "      <td>Excellent</td>\n",
       "      <td>Very Good</td>\n",
       "      <td>Very Good</td>\n",
       "      <td>Excellent</td>\n",
       "      <td>Fair</td>\n",
       "      <td>Excellent</td>\n",
       "      <td>Excellent</td>\n",
       "      <td>Satisfied</td>\n",
       "    </tr>\n",
       "    <tr>\n",
       "      <th>5</th>\n",
       "      <td>Female</td>\n",
       "      <td>49</td>\n",
       "      <td>Returning</td>\n",
       "      <td>Business</td>\n",
       "      <td>Business</td>\n",
       "      <td>3470</td>\n",
       "      <td>0</td>\n",
       "      <td>1.0</td>\n",
       "      <td>Good</td>\n",
       "      <td>Good</td>\n",
       "      <td>...</td>\n",
       "      <td>Good</td>\n",
       "      <td>Very Good</td>\n",
       "      <td>Very Good</td>\n",
       "      <td>Excellent</td>\n",
       "      <td>Very Good</td>\n",
       "      <td>Good</td>\n",
       "      <td>Good</td>\n",
       "      <td>Good</td>\n",
       "      <td>Good</td>\n",
       "      <td>Satisfied</td>\n",
       "    </tr>\n",
       "    <tr>\n",
       "      <th>...</th>\n",
       "      <td>...</td>\n",
       "      <td>...</td>\n",
       "      <td>...</td>\n",
       "      <td>...</td>\n",
       "      <td>...</td>\n",
       "      <td>...</td>\n",
       "      <td>...</td>\n",
       "      <td>...</td>\n",
       "      <td>...</td>\n",
       "      <td>...</td>\n",
       "      <td>...</td>\n",
       "      <td>...</td>\n",
       "      <td>...</td>\n",
       "      <td>...</td>\n",
       "      <td>...</td>\n",
       "      <td>...</td>\n",
       "      <td>...</td>\n",
       "      <td>...</td>\n",
       "      <td>...</td>\n",
       "      <td>...</td>\n",
       "      <td>...</td>\n",
       "    </tr>\n",
       "    <tr>\n",
       "      <th>129876</th>\n",
       "      <td>Male</td>\n",
       "      <td>28</td>\n",
       "      <td>Returning</td>\n",
       "      <td>Personal</td>\n",
       "      <td>Economy Plus</td>\n",
       "      <td>447</td>\n",
       "      <td>2</td>\n",
       "      <td>3.0</td>\n",
       "      <td>Very Good</td>\n",
       "      <td>Very Good</td>\n",
       "      <td>...</td>\n",
       "      <td>Excellent</td>\n",
       "      <td>Poor</td>\n",
       "      <td>Very Good</td>\n",
       "      <td>Very Good</td>\n",
       "      <td>Very Good</td>\n",
       "      <td>Excellent</td>\n",
       "      <td>Very Good</td>\n",
       "      <td>Very Good</td>\n",
       "      <td>Very Good</td>\n",
       "      <td>Neutral or Dissatisfied</td>\n",
       "    </tr>\n",
       "    <tr>\n",
       "      <th>129877</th>\n",
       "      <td>Male</td>\n",
       "      <td>41</td>\n",
       "      <td>Returning</td>\n",
       "      <td>Personal</td>\n",
       "      <td>Economy Plus</td>\n",
       "      <td>308</td>\n",
       "      <td>0</td>\n",
       "      <td>0.0</td>\n",
       "      <td>Excellent</td>\n",
       "      <td>Good</td>\n",
       "      <td>...</td>\n",
       "      <td>Excellent</td>\n",
       "      <td>Fair</td>\n",
       "      <td>Excellent</td>\n",
       "      <td>Fair</td>\n",
       "      <td>Fair</td>\n",
       "      <td>Very Good</td>\n",
       "      <td>Good</td>\n",
       "      <td>Fair</td>\n",
       "      <td>Excellent</td>\n",
       "      <td>Neutral or Dissatisfied</td>\n",
       "    </tr>\n",
       "    <tr>\n",
       "      <th>129878</th>\n",
       "      <td>Male</td>\n",
       "      <td>42</td>\n",
       "      <td>Returning</td>\n",
       "      <td>Personal</td>\n",
       "      <td>Economy Plus</td>\n",
       "      <td>337</td>\n",
       "      <td>6</td>\n",
       "      <td>14.0</td>\n",
       "      <td>Excellent</td>\n",
       "      <td>Fair</td>\n",
       "      <td>...</td>\n",
       "      <td>Good</td>\n",
       "      <td>Good</td>\n",
       "      <td>Very Good</td>\n",
       "      <td>Good</td>\n",
       "      <td>Good</td>\n",
       "      <td>Very Good</td>\n",
       "      <td>Fair</td>\n",
       "      <td>Good</td>\n",
       "      <td>Excellent</td>\n",
       "      <td>Neutral or Dissatisfied</td>\n",
       "    </tr>\n",
       "    <tr>\n",
       "      <th>129879</th>\n",
       "      <td>Male</td>\n",
       "      <td>50</td>\n",
       "      <td>Returning</td>\n",
       "      <td>Personal</td>\n",
       "      <td>Economy Plus</td>\n",
       "      <td>337</td>\n",
       "      <td>31</td>\n",
       "      <td>22.0</td>\n",
       "      <td>Very Good</td>\n",
       "      <td>Very Good</td>\n",
       "      <td>...</td>\n",
       "      <td>Very Good</td>\n",
       "      <td>Very Good</td>\n",
       "      <td>Excellent</td>\n",
       "      <td>Good</td>\n",
       "      <td>Good</td>\n",
       "      <td>Very Good</td>\n",
       "      <td>Excellent</td>\n",
       "      <td>Good</td>\n",
       "      <td>Excellent</td>\n",
       "      <td>Satisfied</td>\n",
       "    </tr>\n",
       "    <tr>\n",
       "      <th>129880</th>\n",
       "      <td>Female</td>\n",
       "      <td>20</td>\n",
       "      <td>Returning</td>\n",
       "      <td>Personal</td>\n",
       "      <td>Economy Plus</td>\n",
       "      <td>337</td>\n",
       "      <td>0</td>\n",
       "      <td>0.0</td>\n",
       "      <td>Poor</td>\n",
       "      <td>Good</td>\n",
       "      <td>...</td>\n",
       "      <td>Very Good</td>\n",
       "      <td>Fair</td>\n",
       "      <td>Very Good</td>\n",
       "      <td>Fair</td>\n",
       "      <td>Fair</td>\n",
       "      <td>Fair</td>\n",
       "      <td>Good</td>\n",
       "      <td>Fair</td>\n",
       "      <td>Poor</td>\n",
       "      <td>Neutral or Dissatisfied</td>\n",
       "    </tr>\n",
       "  </tbody>\n",
       "</table>\n",
       "<p>129880 rows × 23 columns</p>\n",
       "</div>"
      ],
      "text/plain": [
       "        Gender  Age Customer Type Type of Travel         Class  \\\n",
       "ID                                                               \n",
       "1         Male   48    First-time       Business      Business   \n",
       "2       Female   35     Returning       Business      Business   \n",
       "3         Male   41     Returning       Business      Business   \n",
       "4         Male   50     Returning       Business      Business   \n",
       "5       Female   49     Returning       Business      Business   \n",
       "...        ...  ...           ...            ...           ...   \n",
       "129876    Male   28     Returning       Personal  Economy Plus   \n",
       "129877    Male   41     Returning       Personal  Economy Plus   \n",
       "129878    Male   42     Returning       Personal  Economy Plus   \n",
       "129879    Male   50     Returning       Personal  Economy Plus   \n",
       "129880  Female   20     Returning       Personal  Economy Plus   \n",
       "\n",
       "        Flight Distance  Departure Delay  Arrival Delay  \\\n",
       "ID                                                        \n",
       "1                   821                2            5.0   \n",
       "2                   821               26           39.0   \n",
       "3                   853                0            0.0   \n",
       "4                  1905                0            0.0   \n",
       "5                  3470                0            1.0   \n",
       "...                 ...              ...            ...   \n",
       "129876              447                2            3.0   \n",
       "129877              308                0            0.0   \n",
       "129878              337                6           14.0   \n",
       "129879              337               31           22.0   \n",
       "129880              337                0            0.0   \n",
       "\n",
       "       Departure and Arrival Time Convenience Ease of Online Booking  ...  \\\n",
       "ID                                                                    ...   \n",
       "1                                        Good                   Good  ...   \n",
       "2                                        Fair                   Fair  ...   \n",
       "3                                   Very Good              Very Good  ...   \n",
       "4                                        Fair                   Fair  ...   \n",
       "5                                        Good                   Good  ...   \n",
       "...                                       ...                    ...  ...   \n",
       "129876                              Very Good              Very Good  ...   \n",
       "129877                              Excellent                   Good  ...   \n",
       "129878                              Excellent                   Fair  ...   \n",
       "129879                              Very Good              Very Good  ...   \n",
       "129880                                   Poor                   Good  ...   \n",
       "\n",
       "       On-board Service Seat Comfort Leg Room Service Cleanliness  \\\n",
       "ID                                                                  \n",
       "1                  Good    Excellent             Fair   Excellent   \n",
       "2             Excellent    Very Good        Excellent   Excellent   \n",
       "3                  Good    Excellent             Good   Excellent   \n",
       "4             Excellent    Excellent        Excellent   Very Good   \n",
       "5                  Good    Very Good        Very Good   Excellent   \n",
       "...                 ...          ...              ...         ...   \n",
       "129876        Excellent         Poor        Very Good   Very Good   \n",
       "129877        Excellent         Fair        Excellent        Fair   \n",
       "129878             Good         Good        Very Good        Good   \n",
       "129879        Very Good    Very Good        Excellent        Good   \n",
       "129880        Very Good         Fair        Very Good        Fair   \n",
       "\n",
       "       Food and Drink In-flight Service In-flight Wifi Service  \\\n",
       "ID                                                               \n",
       "1           Excellent         Excellent                   Good   \n",
       "2                Good         Excellent                   Fair   \n",
       "3           Excellent              Good              Very Good   \n",
       "4           Very Good         Excellent                   Fair   \n",
       "5           Very Good              Good                   Good   \n",
       "...               ...               ...                    ...   \n",
       "129876      Very Good         Excellent              Very Good   \n",
       "129877           Fair         Very Good                   Good   \n",
       "129878           Good         Very Good                   Fair   \n",
       "129879           Good         Very Good              Excellent   \n",
       "129880           Fair              Fair                   Good   \n",
       "\n",
       "       In-flight Entertainment Baggage Handling             Satisfaction  \n",
       "ID                                                                        \n",
       "1                    Excellent        Excellent  Neutral or Dissatisfied  \n",
       "2                    Excellent        Excellent                Satisfied  \n",
       "3                         Good             Good                Satisfied  \n",
       "4                    Excellent        Excellent                Satisfied  \n",
       "5                         Good             Good                Satisfied  \n",
       "...                        ...              ...                      ...  \n",
       "129876               Very Good        Very Good  Neutral or Dissatisfied  \n",
       "129877                    Fair        Excellent  Neutral or Dissatisfied  \n",
       "129878                    Good        Excellent  Neutral or Dissatisfied  \n",
       "129879                    Good        Excellent                Satisfied  \n",
       "129880                    Fair             Poor  Neutral or Dissatisfied  \n",
       "\n",
       "[129880 rows x 23 columns]"
      ]
     },
     "execution_count": 20,
     "metadata": {},
     "output_type": "execute_result"
    }
   ],
   "source": [
    "df"
   ]
  },
  {
   "cell_type": "code",
   "execution_count": null,
   "id": "54ec0670",
   "metadata": {},
   "outputs": [],
   "source": [
    "df['Arrival Delay'].fillna(0,inplace=True)\n",
    "df['Arrival Delay'].isnull().sum()"
   ]
  },
  {
   "cell_type": "code",
   "execution_count": null,
   "id": "d7e0c228",
   "metadata": {},
   "outputs": [],
   "source": [
    "df['Class'].unique()"
   ]
  },
  {
   "cell_type": "code",
   "execution_count": null,
   "id": "55656895",
   "metadata": {},
   "outputs": [],
   "source": [
    "df['Gender'].value_counts()"
   ]
  },
  {
   "cell_type": "code",
   "execution_count": null,
   "id": "e1465146",
   "metadata": {},
   "outputs": [],
   "source": [
    "df['Satisfaction'].value_counts()"
   ]
  },
  {
   "cell_type": "code",
   "execution_count": 17,
   "id": "1126eb18",
   "metadata": {},
   "outputs": [
    {
     "data": {
      "text/html": [
       "<div>\n",
       "<style scoped>\n",
       "    .dataframe tbody tr th:only-of-type {\n",
       "        vertical-align: middle;\n",
       "    }\n",
       "\n",
       "    .dataframe tbody tr th {\n",
       "        vertical-align: top;\n",
       "    }\n",
       "\n",
       "    .dataframe thead th {\n",
       "        text-align: right;\n",
       "    }\n",
       "</style>\n",
       "<table border=\"1\" class=\"dataframe\">\n",
       "  <thead>\n",
       "    <tr style=\"text-align: right;\">\n",
       "      <th></th>\n",
       "      <th>Counts</th>\n",
       "    </tr>\n",
       "  </thead>\n",
       "  <tbody>\n",
       "    <tr>\n",
       "      <th>Male</th>\n",
       "      <td>63981</td>\n",
       "    </tr>\n",
       "    <tr>\n",
       "      <th>Female</th>\n",
       "      <td>65899</td>\n",
       "    </tr>\n",
       "  </tbody>\n",
       "</table>\n",
       "</div>"
      ],
      "text/plain": [
       "        Counts\n",
       "Male     63981\n",
       "Female   65899"
      ]
     },
     "execution_count": 17,
     "metadata": {},
     "output_type": "execute_result"
    }
   ],
   "source": [
    "# Unique Gender Count\n",
    "Male = len(df[df['Gender']=='Male'])\n",
    "Female = len(df[df['Gender']=='Female'])\n",
    "\n",
    "sex_label = ['Male','Female'] \n",
    "sex_data = [Male,Female]\n",
    "sex = pd.DataFrame(data = sex_data,index=sex_label,columns =['Counts'])\n",
    "\n",
    "sex\n",
    "# can also be done like this \n",
    "# sex_p=  df.Gender.value_counts()\n",
    "# plt.pie(sex_p, sex.index, autopct = '%1.2f%')"
   ]
  },
  {
   "cell_type": "code",
   "execution_count": 53,
   "id": "24455938",
   "metadata": {
    "scrolled": true
   },
   "outputs": [
    {
     "data": {
      "image/png": "[encoded data removed]",
      "text/plain": [
       "<Figure size 432x288 with 1 Axes>"
      ]
     },
     "metadata": {},
     "output_type": "display_data"
    }
   ],
   "source": [
    "#pie chart for Gender counts\n",
    "plt.pie(sex_data,labels=['Male','Female'], autopct='%1.2f%%')\n",
    "plt.show()"
   ]
  },
  {
   "cell_type": "markdown",
   "id": "17aa94a0",
   "metadata": {},
   "source": [
    "# Are First time customer more than Returning Customers?"
   ]
  },
  {
   "cell_type": "code",
   "execution_count": 46,
   "id": "72f0c329",
   "metadata": {},
   "outputs": [
    {
     "data": {
      "text/html": [
       "<div>\n",
       "<style scoped>\n",
       "    .dataframe tbody tr th:only-of-type {\n",
       "        vertical-align: middle;\n",
       "    }\n",
       "\n",
       "    .dataframe tbody tr th {\n",
       "        vertical-align: top;\n",
       "    }\n",
       "\n",
       "    .dataframe thead th {\n",
       "        text-align: right;\n",
       "    }\n",
       "</style>\n",
       "<table border=\"1\" class=\"dataframe\">\n",
       "  <thead>\n",
       "    <tr style=\"text-align: right;\">\n",
       "      <th></th>\n",
       "      <th>Customer Type</th>\n",
       "    </tr>\n",
       "  </thead>\n",
       "  <tbody>\n",
       "    <tr>\n",
       "      <th>Returning</th>\n",
       "      <td>106100</td>\n",
       "    </tr>\n",
       "    <tr>\n",
       "      <th>First-time</th>\n",
       "      <td>23780</td>\n",
       "    </tr>\n",
       "  </tbody>\n",
       "</table>\n",
       "</div>"
      ],
      "text/plain": [
       "            Customer Type\n",
       "Returning          106100\n",
       "First-time          23780"
      ]
     },
     "execution_count": 46,
     "metadata": {},
     "output_type": "execute_result"
    }
   ],
   "source": [
    "# Customer type Value Counts\n",
    "Customer_Type = pd.DataFrame(df['Customer Type'].value_counts())\n",
    "Customer_Type"
   ]
  },
  {
   "cell_type": "code",
   "execution_count": 51,
   "id": "d4ae1fe9",
   "metadata": {},
   "outputs": [
    {
     "data": {
      "image/png": "[encoded data removed]",
      "text/plain": [
       "<Figure size 432x288 with 1 Axes>"
      ]
     },
     "metadata": {},
     "output_type": "display_data"
    }
   ],
   "source": [
    "plt.pie(Customer_Type['Customer Type'],labels = Customer_Type.index , autopct = '%1.2f%%')\n",
    "plt.show()"
   ]
  },
  {
   "cell_type": "markdown",
   "id": "a0b0c148",
   "metadata": {},
   "source": [
    "# Which features are Customers most satisfied with?"
   ]
  },
  {
   "cell_type": "code",
   "execution_count": null,
   "id": "6f4a124d",
   "metadata": {},
   "outputs": [],
   "source": [
    "# creating a function to map 1-5 as poor , fair, good, very good, excellent\n",
    "\n",
    "def map_satisfaction(data):\n",
    "    cols = data.columns[8:22]\n",
    "    for i in cols:\n",
    "        data[i] = data[i].replace({0:'Terrible',1:'Poor', 2:'Fair', 3:'Good', 4:'Very Good', 5:'Excellent'})\n",
    "    return\n",
    "        "
   ]
  },
  {
   "cell_type": "code",
   "execution_count": null,
   "id": "e938c3b4",
   "metadata": {},
   "outputs": [],
   "source": [
    "map_satisfaction(df)"
   ]
  },
  {
   "cell_type": "code",
   "execution_count": 39,
   "id": "7d5121b1",
   "metadata": {},
   "outputs": [
    {
     "data": {
      "image/png": "[encoded data removed]",
      "text/plain": [
       "<Figure size 432x288 with 1 Axes>"
      ]
     },
     "metadata": {},
     "output_type": "display_data"
    }
   ],
   "source": [
    "# Plot a bar chat of value counts \n",
    "df['Departure and Arrival Time Convenience'].value_counts().plot(kind='bar')\n",
    "plt.title('Departure and Arrival Time Convenience', fontsize=14)\n",
    "\n",
    "plt.show()"
   ]
  },
  {
   "cell_type": "code",
   "execution_count": 42,
   "id": "4160fb78",
   "metadata": {},
   "outputs": [
    {
     "data": {
      "image/png": "[encoded data removed]",
      "text/plain": [
       "<Figure size 432x288 with 1 Axes>"
      ]
     },
     "metadata": {},
     "output_type": "display_data"
    }
   ],
   "source": [
    "# Plot a bar chat of value counts \n",
    "df['Check-in Service'].value_counts().plot(kind='bar')\n",
    "\n",
    "plt.title('Check-in Service', fontsize=14)\n",
    "plt.show()"
   ]
  },
  {
   "cell_type": "code",
   "execution_count": 41,
   "id": "85e35c43",
   "metadata": {},
   "outputs": [
    {
     "data": {
      "image/png": "[encoded data removed]",
      "text/plain": [
       "<Figure size 432x288 with 1 Axes>"
      ]
     },
     "metadata": {},
     "output_type": "display_data"
    }
   ],
   "source": [
    "# Plot a bar chat of value counts \n",
    "df['Ease of Online Booking'].value_counts().plot(kind='bar')\n",
    "\n",
    "plt.title('Ease of Online Booking', fontsize=14)\n",
    "\n",
    "plt.show()"
   ]
  },
  {
   "cell_type": "code",
   "execution_count": 43,
   "id": "0dcfb0d0",
   "metadata": {},
   "outputs": [
    {
     "data": {
      "image/png": "[encoded data removed]",
      "text/plain": [
       "<Figure size 432x288 with 1 Axes>"
      ]
     },
     "metadata": {},
     "output_type": "display_data"
    }
   ],
   "source": [
    "# Plot a bar chat of value counts \n",
    "df['Online Boarding'].value_counts().plot(kind='bar')\n",
    "plt.title('Online Boarding', fontsize=14)\n",
    "\n",
    "plt.show()"
   ]
  },
  {
   "cell_type": "code",
   "execution_count": 44,
   "id": "c54b658f",
   "metadata": {},
   "outputs": [
    {
     "data": {
      "image/png": "[encoded data removed]",
      "text/plain": [
       "<Figure size 432x288 with 1 Axes>"
      ]
     },
     "metadata": {},
     "output_type": "display_data"
    }
   ],
   "source": [
    "# Plot a bar chat of value counts \n",
    "df['Gate Location'].value_counts().plot(kind='bar')\n",
    "\n",
    "plt.title('Gate Location', fontsize=14)\n",
    "plt.show()"
   ]
  },
  {
   "cell_type": "code",
   "execution_count": 45,
   "id": "8df884b9",
   "metadata": {},
   "outputs": [
    {
     "data": {
      "image/png": "[encoded data removed]",
      "text/plain": [
       "<Figure size 432x288 with 1 Axes>"
      ]
     },
     "metadata": {},
     "output_type": "display_data"
    }
   ],
   "source": [
    "# Plot a bar chat of value counts \n",
    "df['Seat Comfort'].value_counts().plot(kind='bar')\n",
    "\n",
    "plt.title('Seat Comfort', fontsize=14)\n",
    "plt.show()"
   ]
  },
  {
   "cell_type": "code",
   "execution_count": 46,
   "id": "f52c5468",
   "metadata": {},
   "outputs": [
    {
     "data": {
      "image/png": "[encoded data removed]",
      "text/plain": [
       "<Figure size 432x288 with 1 Axes>"
      ]
     },
     "metadata": {},
     "output_type": "display_data"
    }
   ],
   "source": [
    "# Plot a bar chat of value counts \n",
    "df['Leg Room Service'].value_counts().plot(kind='bar')\n",
    "\n",
    "plt.title('Leg Room Service', fontsize=14)\n",
    "\n",
    "plt.show()"
   ]
  },
  {
   "cell_type": "code",
   "execution_count": 47,
   "id": "9c07e63c",
   "metadata": {},
   "outputs": [
    {
     "data": {
      "image/png": "[encoded data removed]",
      "text/plain": [
       "<Figure size 432x288 with 1 Axes>"
      ]
     },
     "metadata": {},
     "output_type": "display_data"
    }
   ],
   "source": [
    "# Plot a bar chat of value counts \n",
    "df['Cleanliness'].value_counts().plot(kind='bar')\n",
    "\n",
    "\n",
    "plt.title('Cleanliness', fontsize=14)\n",
    "plt.show()"
   ]
  },
  {
   "cell_type": "code",
   "execution_count": 48,
   "id": "56934b5a",
   "metadata": {},
   "outputs": [
    {
     "data": {
      "image/png": "[encoded data removed]",
      "text/plain": [
       "<Figure size 432x288 with 1 Axes>"
      ]
     },
     "metadata": {},
     "output_type": "display_data"
    }
   ],
   "source": [
    "# Plot a bar chat of value counts \n",
    "df['Food and Drink'].value_counts().plot(kind='bar')\n",
    "\n",
    "plt.title('Food and Drink', fontsize=14)\n",
    "plt.show()"
   ]
  },
  {
   "cell_type": "code",
   "execution_count": 49,
   "id": "2bbb1e3f",
   "metadata": {},
   "outputs": [
    {
     "data": {
      "image/png": "[encoded data removed]",
      "text/plain": [
       "<Figure size 432x288 with 1 Axes>"
      ]
     },
     "metadata": {},
     "output_type": "display_data"
    }
   ],
   "source": [
    "# Plot a bar chat of value counts \n",
    "df['In-flight Wifi Service'].value_counts().plot(kind='bar')\n",
    "\n",
    "plt.title('In-flight Wifi Service', fontsize=14)\n",
    "plt.show()"
   ]
  },
  {
   "cell_type": "code",
   "execution_count": 50,
   "id": "73e93e1d",
   "metadata": {},
   "outputs": [
    {
     "data": {
      "image/png": "[encoded data removed]",
      "text/plain": [
       "<Figure size 432x288 with 1 Axes>"
      ]
     },
     "metadata": {},
     "output_type": "display_data"
    }
   ],
   "source": [
    "# Plot a bar chat of value counts \n",
    "df['Baggage Handling'].value_counts().plot(kind='bar')\n",
    "\n",
    "plt.title('Baggage Handling', fontsize=14)\n",
    "plt.show()"
   ]
  },
  {
   "cell_type": "code",
   "execution_count": 52,
   "id": "f5180119",
   "metadata": {},
   "outputs": [
    {
     "data": {
      "text/plain": [
       "Very Good    0.360032\n",
       "Excellent    0.260841\n",
       "Good         0.199038\n",
       "Fair         0.110579\n",
       "Poor         0.069510\n",
       "Name: Baggage Handling, dtype: float64"
      ]
     },
     "execution_count": 52,
     "metadata": {},
     "output_type": "execute_result"
    }
   ],
   "source": [
    "df['Baggage Handling'].value_counts(normalize = True)"
   ]
  },
  {
   "cell_type": "markdown",
   "id": "933142ea",
   "metadata": {},
   "source": [
    "After checking the descriptives of each features, Customers seems to be more satisfied with baggage handling. Over 60% of the customers indicated that the service was Exellent and very Good."
   ]
  },
  {
   "cell_type": "markdown",
   "id": "5e55c787",
   "metadata": {},
   "source": [
    "# is there a relationship between Age and satisfaction any feature?"
   ]
  },
  {
   "cell_type": "code",
   "execution_count": 57,
   "id": "b30d874e",
   "metadata": {},
   "outputs": [
    {
     "data": {
      "image/png": "[encoded data removed]",
      "text/plain": [
       "<Figure size 432x288 with 1 Axes>"
      ]
     },
     "metadata": {},
     "output_type": "display_data"
    }
   ],
   "source": [
    "plt.scatter(df['Food and Drink'], df['Age'])\n",
    "\n",
    "plt.show()"
   ]
  },
  {
   "cell_type": "markdown",
   "id": "916c4780",
   "metadata": {},
   "source": [
    "NO!"
   ]
  },
  {
   "cell_type": "code",
   "execution_count": null,
   "id": "faab72b2",
   "metadata": {},
   "outputs": [],
   "source": []
  },
  {
   "cell_type": "code",
   "execution_count": 20,
   "id": "989e13f7",
   "metadata": {},
   "outputs": [
    {
     "data": {
      "text/html": [
       "<div>\n",
       "<style scoped>\n",
       "    .dataframe tbody tr th:only-of-type {\n",
       "        vertical-align: middle;\n",
       "    }\n",
       "\n",
       "    .dataframe tbody tr th {\n",
       "        vertical-align: top;\n",
       "    }\n",
       "\n",
       "    .dataframe thead th {\n",
       "        text-align: right;\n",
       "    }\n",
       "</style>\n",
       "<table border=\"1\" class=\"dataframe\">\n",
       "  <thead>\n",
       "    <tr style=\"text-align: right;\">\n",
       "      <th></th>\n",
       "      <th>Satisfaction</th>\n",
       "      <th>Gender</th>\n",
       "      <th>Class</th>\n",
       "      <th>Counts</th>\n",
       "    </tr>\n",
       "  </thead>\n",
       "  <tbody>\n",
       "    <tr>\n",
       "      <th>0</th>\n",
       "      <td>Neutral or Dissatisfied</td>\n",
       "      <td>Female</td>\n",
       "      <td>Economy</td>\n",
       "      <td>24171</td>\n",
       "    </tr>\n",
       "    <tr>\n",
       "      <th>1</th>\n",
       "      <td>Neutral or Dissatisfied</td>\n",
       "      <td>Male</td>\n",
       "      <td>Economy</td>\n",
       "      <td>23195</td>\n",
       "    </tr>\n",
       "    <tr>\n",
       "      <th>2</th>\n",
       "      <td>Neutral or Dissatisfied</td>\n",
       "      <td>Female</td>\n",
       "      <td>Business</td>\n",
       "      <td>9663</td>\n",
       "    </tr>\n",
       "    <tr>\n",
       "      <th>3</th>\n",
       "      <td>Neutral or Dissatisfied</td>\n",
       "      <td>Male</td>\n",
       "      <td>Business</td>\n",
       "      <td>9331</td>\n",
       "    </tr>\n",
       "    <tr>\n",
       "      <th>4</th>\n",
       "      <td>Neutral or Dissatisfied</td>\n",
       "      <td>Female</td>\n",
       "      <td>Economy Plus</td>\n",
       "      <td>3796</td>\n",
       "    </tr>\n",
       "    <tr>\n",
       "      <th>5</th>\n",
       "      <td>Neutral or Dissatisfied</td>\n",
       "      <td>Male</td>\n",
       "      <td>Economy Plus</td>\n",
       "      <td>3296</td>\n",
       "    </tr>\n",
       "    <tr>\n",
       "      <th>6</th>\n",
       "      <td>Satisfied</td>\n",
       "      <td>Female</td>\n",
       "      <td>Business</td>\n",
       "      <td>21600</td>\n",
       "    </tr>\n",
       "    <tr>\n",
       "      <th>7</th>\n",
       "      <td>Satisfied</td>\n",
       "      <td>Male</td>\n",
       "      <td>Business</td>\n",
       "      <td>21566</td>\n",
       "    </tr>\n",
       "    <tr>\n",
       "      <th>8</th>\n",
       "      <td>Satisfied</td>\n",
       "      <td>Female</td>\n",
       "      <td>Economy</td>\n",
       "      <td>5499</td>\n",
       "    </tr>\n",
       "    <tr>\n",
       "      <th>9</th>\n",
       "      <td>Satisfied</td>\n",
       "      <td>Male</td>\n",
       "      <td>Economy</td>\n",
       "      <td>5444</td>\n",
       "    </tr>\n",
       "    <tr>\n",
       "      <th>10</th>\n",
       "      <td>Satisfied</td>\n",
       "      <td>Female</td>\n",
       "      <td>Economy Plus</td>\n",
       "      <td>1170</td>\n",
       "    </tr>\n",
       "    <tr>\n",
       "      <th>11</th>\n",
       "      <td>Satisfied</td>\n",
       "      <td>Male</td>\n",
       "      <td>Economy Plus</td>\n",
       "      <td>1149</td>\n",
       "    </tr>\n",
       "  </tbody>\n",
       "</table>\n",
       "</div>"
      ],
      "text/plain": [
       "               Satisfaction  Gender         Class  Counts\n",
       "0   Neutral or Dissatisfied  Female       Economy   24171\n",
       "1   Neutral or Dissatisfied    Male       Economy   23195\n",
       "2   Neutral or Dissatisfied  Female      Business    9663\n",
       "3   Neutral or Dissatisfied    Male      Business    9331\n",
       "4   Neutral or Dissatisfied  Female  Economy Plus    3796\n",
       "5   Neutral or Dissatisfied    Male  Economy Plus    3296\n",
       "6                 Satisfied  Female      Business   21600\n",
       "7                 Satisfied    Male      Business   21566\n",
       "8                 Satisfied  Female       Economy    5499\n",
       "9                 Satisfied    Male       Economy    5444\n",
       "10                Satisfied  Female  Economy Plus    1170\n",
       "11                Satisfied    Male  Economy Plus    1149"
      ]
     },
     "execution_count": 20,
     "metadata": {},
     "output_type": "execute_result"
    }
   ],
   "source": [
    "# satisfaction counts for by gender and Class\n",
    "groupby_satisfaction = df.groupby('Satisfaction')[['Gender','Class']]\n",
    "satis_by_class_gender =  pd.DataFrame(groupby_satisfaction.value_counts())\n",
    "satis_by_class_gender.reset_index(inplace=True)\n",
    "satis_by_class_gender.rename(columns={0:'Counts'},inplace=True)\n",
    "\n",
    "satis_by_class_gender"
   ]
  },
  {
   "cell_type": "code",
   "execution_count": 21,
   "id": "7a7e2719",
   "metadata": {},
   "outputs": [
    {
     "data": {
      "text/plain": [
       "<AxesSubplot:xlabel='Gender', ylabel='Counts'>"
      ]
     },
     "execution_count": 21,
     "metadata": {},
     "output_type": "execute_result"
    },
    {
     "data": {
      "image/png": "[encoded data removed]",
      "text/plain": [
       "<Figure size 432x288 with 1 Axes>"
      ]
     },
     "metadata": {},
     "output_type": "display_data"
    }
   ],
   "source": [
    "sns.barplot(data=satis_by_class_gender,x= 'Gender',y='Counts')"
   ]
  },
  {
   "cell_type": "code",
   "execution_count": 22,
   "id": "5d143230",
   "metadata": {},
   "outputs": [],
   "source": [
    "sat_female_class_counts  = satis_by_class_gender[satis_by_class_gender['Gender'] == 'Female']\n",
    "sat_female_Business_counts = sat_female_class_counts[sat_female_class_counts['Class'] == 'Business']\n",
    "sat_female_Ecoplus_counts = sat_female_class_counts[sat_female_class_counts['Class'] == 'Economy Plus']\n",
    "sat_female_Eco_counts = sat_female_class_counts[sat_female_class_counts['Class'] == 'Economy']\n",
    "\n",
    "\n",
    "sat_male_class_counts  = satis_by_class_gender[satis_by_class_gender['Gender'] == 'Male']\n",
    "sat_male_Business_counts = sat_male_class_counts[sat_male_class_counts['Class'] == 'Business']\n",
    "sat_male_Ecoplus_counts = sat_male_class_counts[sat_male_class_counts['Class'] == 'Economy Plus']\n",
    "sat_male_Eco_counts = sat_male_class_counts[sat_male_class_counts['Class'] == 'Economy']\n",
    "sat_female_Business_counts \n",
    "\n",
    "sat_class_gender = satis_by_class_gender[satis_by_class_gender['Satisfaction'] == 'Satisfied']\n",
    "dis_class_gender = satis_by_class_gender[satis_by_class_gender['Satisfaction'] == 'Neutral or Dissatisfied']\n"
   ]
  },
  {
   "cell_type": "code",
   "execution_count": 23,
   "id": "801f2887",
   "metadata": {},
   "outputs": [
    {
     "data": {
      "image/png": "[encoded data removed]",
      "text/plain": [
       "<Figure size 576x432 with 1 Axes>"
      ]
     },
     "metadata": {},
     "output_type": "display_data"
    }
   ],
   "source": [
    "n = len(sat_female_Business_counts['Counts'])\n",
    "r = np.arange(n)\n",
    "width = 0.25\n",
    "plt.figure(figsize = (8,6))\n",
    "plt.bar(r,sat_female_Business_counts['Counts'], color='g',\n",
    "       width = width, edgecolor = 'black',label='Female')\n",
    "plt.bar(r + width,sat_male_Business_counts['Counts'], color='b',\n",
    "       width = width, edgecolor = 'black',label='Male')\n",
    "\n",
    "plt.xlabel('Satisfaction',fontsize = 14)\n",
    "plt.ylabel('Counts', fontsize = 14)\n",
    "plt.title('Airline Business Class Satisfaction Between Male and Female',fontsize = 20)\n",
    "\n",
    "plt.xticks(r + width/2,['Neutral or Dissatisfed','Satisfied'])\n",
    "plt.legend()\n",
    "\n",
    "plt.show()"
   ]
  },
  {
   "cell_type": "code",
   "execution_count": 24,
   "id": "e100fb10",
   "metadata": {},
   "outputs": [
    {
     "data": {
      "text/plain": [
       "<AxesSubplot:xlabel='Customer Type', ylabel='count'>"
      ]
     },
     "execution_count": 24,
     "metadata": {},
     "output_type": "execute_result"
    },
    {
     "data": {
      "image/png": "[encoded data removed]",
      "text/plain": [
       "<Figure size 432x288 with 1 Axes>"
      ]
     },
     "metadata": {},
     "output_type": "display_data"
    }
   ],
   "source": [
    "sns.countplot(data = df, x='Customer Type')"
   ]
  },
  {
   "cell_type": "code",
   "execution_count": 25,
   "id": "d64b3d74",
   "metadata": {},
   "outputs": [
    {
     "data": {
      "text/plain": [
       "(0    5008\n",
       " 1    4954\n",
       " 2    4882\n",
       " 3    4710\n",
       " 4    4194\n",
       " 5      32\n",
       " Name: Counts, dtype: int64,\n",
       " 6     25555\n",
       " 7     23247\n",
       " 8     22840\n",
       " 9     22501\n",
       " 10    11857\n",
       " 11      100\n",
       " Name: Counts, dtype: int64)"
      ]
     },
     "execution_count": 25,
     "metadata": {},
     "output_type": "execute_result"
    }
   ],
   "source": [
    "customer_foods =  pd.DataFrame(df.groupby('Customer Type')['Food and Drink'].value_counts())\n",
    "customer_foods.rename(columns={'Food and Drink': 'Counts'},inplace=True)\n",
    "customer_foods.reset_index(inplace=True)\n",
    "customer_foods_first_timers = customer_foods[customer_foods['Customer Type'] == 'First-time']\n",
    "customer_foods_Returning = customer_foods[customer_foods['Customer Type'] == 'Returning']\n",
    "customer_foods_first_timers['Counts'],customer_foods_Returning['Counts']"
   ]
  },
  {
   "cell_type": "code",
   "execution_count": 30,
   "id": "1999245f",
   "metadata": {},
   "outputs": [
    {
     "data": {
      "text/plain": [
       "<matplotlib.legend.Legend at 0x1bc5ed62160>"
      ]
     },
     "execution_count": 30,
     "metadata": {},
     "output_type": "execute_result"
    },
    {
     "data": {
      "image/png": "[encoded data removed]",
      "text/plain": [
       "<Figure size 576x432 with 1 Axes>"
      ]
     },
     "metadata": {},
     "output_type": "display_data"
    }
   ],
   "source": [
    "n = len(customer_foods_first_timers['Counts'])\n",
    "r = np.arange(n)\n",
    "width = 0.25\n",
    "\n",
    "plt.figure(figsize=(8,6))\n",
    "plt.bar(r,customer_foods_first_timers['Counts'], color='g',\n",
    "       width = width, edgecolor = 'black',label='First-time')\n",
    "plt.bar(r + width,customer_foods_Returning['Counts'], color='b',\n",
    "       width = width, edgecolor = 'black',label='Returning')\n",
    "\n",
    "                                           \n",
    "                                           \n",
    "plt.xlabel('Ratings',fontsize = 14)\n",
    "plt.ylabel('Counts', fontsize = 14)\n",
    "plt.title('Airline Customer Type Satisfaction For Foods and Drinks',fontsize = 20)\n",
    "\n",
    "plt.xticks(r+ width/2,['Excellent','Very Good','Good','Fair','Poor','Very Poor'])\n",
    "plt.legend()\n",
    "                                           "
   ]
  },
  {
   "cell_type": "code",
   "execution_count": 27,
   "id": "f8addabb",
   "metadata": {},
   "outputs": [
    {
     "data": {
      "image/png": "[encoded data removed]",
      "text/plain": [
       "<Figure size 576x432 with 1 Axes>"
      ]
     },
     "metadata": {},
     "output_type": "display_data"
    }
   ],
   "source": [
    "n = 2\n",
    "r = np.arange(n)\n",
    "width = 0.25\n",
    "plt.figure(figsize = (8,6))\n",
    "plt.bar(r,sat_female_Business_counts['Counts'], color='g',\n",
    "       width = width, edgecolor = 'black',label='Business')\n",
    "plt.bar(r + width,sat_female_Eco_counts['Counts'], color='b',\n",
    "       width = width, edgecolor = 'black',label='Economy')\n",
    "plt.bar(r + width + width,sat_female_Ecoplus_counts['Counts'], color='y',\n",
    "       width = width, edgecolor = 'black',label='Economy Plus')\n",
    "\n",
    "plt.xlabel('Satisfaction',fontsize = 14)\n",
    "plt.ylabel('Counts', fontsize = 14)\n",
    "plt.title('Airline classes satisfaction for female Counts',fontsize = 20)\n",
    "\n",
    "plt.xticks(r + width/2,['Neutral or Dissatisfed','Satisfied'])\n",
    "plt.legend()\n",
    "\n",
    "plt.show()"
   ]
  },
  {
   "cell_type": "code",
   "execution_count": 28,
   "id": "4c497db1",
   "metadata": {},
   "outputs": [
    {
     "data": {
      "image/png": "[encoded data removed]",
      "text/plain": [
       "<Figure size 576x432 with 1 Axes>"
      ]
     },
     "metadata": {},
     "output_type": "display_data"
    }
   ],
   "source": [
    "n = 2\n",
    "r = np.arange(n)\n",
    "width = 0.25\n",
    "plt.figure(figsize = (8,6))\n",
    "plt.bar(r,sat_male_Business_counts['Counts'], color='g',\n",
    "       width = width, edgecolor = 'black',label='Business')\n",
    "plt.bar(r + width,sat_male_Eco_counts['Counts'], color='b',\n",
    "       width = width, edgecolor = 'black',label='Economy')\n",
    "plt.bar(r + width + width, sat_male_Ecoplus_counts['Counts'], color='y',\n",
    "       width = width, edgecolor = 'black',label='Economy Plus')\n",
    "\n",
    "plt.xlabel('Satisfaction',fontsize = 14)\n",
    "plt.ylabel('Counts', fontsize = 14)\n",
    "plt.title('Airline Classes Satisfaction For Male Counts',fontsize = 20)\n",
    "\n",
    "plt.xticks(r + width/2,['Neutral or Dissatisfed','Satisfied'])\n",
    "plt.legend()\n",
    "\n",
    "plt.show()"
   ]
  },
  {
   "cell_type": "code",
   "execution_count": null,
   "id": "5204b9a0",
   "metadata": {},
   "outputs": [],
   "source": []
  }
 ],
 "metadata": {
  "kernelspec": {
   "display_name": "Python 3 (ipykernel)",
   "language": "python",
   "name": "python3"
  },
  "language_info": {
   "codemirror_mode": {
    "name": "ipython",
    "version": 3
   },
   "file_extension": ".py",
   "mimetype": "text/x-python",
   "name": "python",
   "nbconvert_exporter": "python",
   "pygments_lexer": "ipython3",
   "version": "3.9.12"
  }
 },
 "nbformat": 4,
 "nbformat_minor": 5
}
